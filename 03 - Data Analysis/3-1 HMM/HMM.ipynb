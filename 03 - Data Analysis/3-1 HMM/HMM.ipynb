{
 "cells": [
  {
   "cell_type": "markdown",
   "metadata": {},
   "source": [
    "# Lesson 3.1 Hidden Markov Models\n",
    "---"
   ]
  },
  {
   "cell_type": "markdown",
   "metadata": {},
   "source": [
    "## Introduction"
   ]
  },
  {
   "cell_type": "markdown",
   "metadata": {},
   "source": [
    "We view the world as a series of frames or snapshots in time, each of which contains a set of random variables where some are observable, and some are not. Hidden Markov Models or HMM's, are a machine learning technique used to make sense of sequences in time. HMM's have recently come to dominate the field of speech recognition. These models are good at taking frames that make up an input signal and feedback a result based on that model. HMM's are based on a rigourous set of mathematical theory which allowed speech researchers to build onto previous mathematical results developed in other fields. HMM's must be trained for a particular end result. In speech recognition, this could be a word or  series of words. In HMMS' these models are able to distinguish a signal with noise present, or different magnitudes, or even durations of states. This is the power available in HMM's.\n",
    "\n",
    "This lesson will cover the algorithm and methods for HMM's and their applications for use in detecting patterns in vibrational signitures in aeromechanical testing."
   ]
  },
  {
   "cell_type": "markdown",
   "metadata": {},
   "source": [
    "## The Algorithm"
   ]
  },
  {
   "cell_type": "markdown",
   "metadata": {},
   "source": [
    "### Creating the Model"
   ]
  },
  {
   "cell_type": "markdown",
   "metadata": {},
   "source": [
    "Hidden Markov Models are state based models of data used to recognize patterns in the data. Given a set of states S = {s1, s2, ..., si}, the series can be observed over time. For visualization, lets look at an example. Consider the following graph representing 4 states:\n",
    "\n",
    "![graph](./images/graph.PNG)\n",
    "\n",
    "Given these 4 states, we can compute the transition probabilities as follows:\n",
    "\n",
    "1. State 1 consumes 10 frames. Therefore, the outpout probability is 0.1 and the probability of remaining in step 1 is 0.9.\n",
    "2. State 2 consumes 5 frames. Therefore, its transition probabilities are 0.2 and 0.8.\n",
    "3. State 3 consumes 20 frames. Therefore, its transistion probabilities are 0.05 and 0.95\n",
    "4. State 4 consumes 3 frames. Therefore, its transition probabilites are 0.333 and 0.667\n",
    "\n",
    "After calculating our transisition probabilities, we can draw the following Markov Model:\n",
    "\n",
    "![examplehmm](./images/examplehmm.png)\n",
    "\n",
    "Next, we need to consider the start probabilities. There are 2 different ways to look at this. First, the model could be as shown, and the entrance point to the model is only at state 1. However, we can have probable outcomes where the starting point is in the middle of the model. We can represent this in the following way, where the entrance probabilities are uniform.\n",
    "\n",
    "![examplehmm2](./images/examplehmm2.png)"
   ]
  },
  {
   "cell_type": "markdown",
   "metadata": {},
   "source": [
    "### The Forward-Backward Algorithm"
   ]
  },
  {
   "cell_type": "markdown",
   "metadata": {
    "collapsed": true
   },
   "source": [
    "HMM's are a temporal probabalistic models in which the state of the process is described by a single descrete variable. The possible values of the variable are the possible states of the world. We can represent HMM's in the following way:\n",
    "\n",
    "$X_{t}$ = A single descrete state variable  \n",
    "$S$ = Number of possible states\n",
    "\n",
    "The transition model is represented by $P(X_{t} | X_{t-1})$ as an SxS matrix T where $T_{ij} = P(X_{t}=j | X_{t-1}=i)$ where $T_{ij}$ = the probability of transition from state i to state j.\n",
    "\n",
    "Next, we look at the evidence and observations:\n",
    "\n",
    "$e_{t}$ = Evidence variable at time, t\n",
    "\n",
    "$P(e_{t} | X_{t})$ for each state, i for how likely it is that state i causes evidence $e_{t}$ to appear. These probabilities are represented by an SxS diagonal matrix, $O_{t}$.\n",
    "\n",
    "Given the above, we can compute the forward equation by simpel matrix-vector operations:\n",
    "\n",
    "$$f_{1:t+1} = \\alpha O_{t+1}T^{T}f_{1:t}$$\n",
    "\n",
    "and the backward equation:\n",
    "\n",
    "$$b_{k+1:t} = TO_{k+1}b_{k+2:t}$$\n",
    "\n",
    "These equations represent the forward-backward algorithm applied to a sequence of lenght *t*. The forward-backward algorithm is an inference algorithm for HMM's which compute the posterior marginals of all hidden state variables given a sequence of observations and emissions."
   ]
  },
  {
   "cell_type": "markdown",
   "metadata": {},
   "source": [
    "### The Viterbi Trellis"
   ]
  },
  {
   "cell_type": "markdown",
   "metadata": {},
   "source": [
    "The Vrterbi algorithm is a dynamic programming algorithm for finding the most likely sequence of hidden states, called the Viterbi path, that results in a sequence of observed events. The Viterbi algorithm can be built and represented as a trellis, where all possible paths are determined, and take into account the transition and emission probabilities of each state to determine the best path. Let's take our HMM model displayed previously and represent that as a Viterbi Trellis:\n",
    "\n",
    "![VT](./images/viterbiTrellis.png)\n",
    "\n",
    "Notice the filling in of the transition probabilities and that each state is a row on the trellis. The trellis displayed is a simple linear model where we must enter state 1 before 2 and state 2 before state 3, etc. However, a trellis can be built for models that have several combinational types such as state 1 to state 3, skipping state 2.\n",
    "\n",
    "Next, we take an observation made such as the sequence: {-2,-1,-1,0,1,0,1,2,2} and compute the probability of each value being generated by a state on the trellis. For this example we will use the following:\n",
    "\n",
    "$P(S_{1} | X_{t} = -2) = 1.0$  \n",
    "$P(S_{1} | X_{t} = -1) = 0.5$  \n",
    "$P(S_{2} | X_{t} = -1) = 0.5$  \n",
    "$P(S_{2} | X_{t} = 0) = 0.5$  \n",
    "$P(S_{3} | X_{t} = 0) = 0.5$  \n",
    "$P(S_{3} | X_{t} = 1) = 0.5$  \n",
    "$P(S_{4} | X_{t} = 1) = 0.5$  \n",
    "$P(S_{4} | X_{t} = 2) = 1.0$  \n",
    "\n",
    "This yields the following result with the probabilities placed in the circle of the trellis:\n",
    "\n",
    "![VT2](./images/viterbiTrellis2.png)\n",
    "\n",
    "Next, we compute the path probabilities and choose the path with the highest probability. We compute these by multiplying each state value probability by the previous transition probability, and multiplying each subsequent step. By doing this, we get the following where each step probability is shown in red and the path in green:\n",
    "\n",
    "![VT3](./images/viterbiTrellis3.png)"
   ]
  },
  {
   "cell_type": "markdown",
   "metadata": {},
   "source": [
    "## Visual Example: Rainy or sunny?"
   ]
  },
  {
   "cell_type": "markdown",
   "metadata": {
    "collapsed": true
   },
   "source": [
    "In this example, suppose there is a person who, for whatever reason, is unable to observe the current state of the weather. Instead, they must make inferences based on discussions made with a friend. Here, we have 2 possible hidden states as \"Sunny\" or \"Rainy\". Given a set of probabilities for the Markov Model, the person must make inferences based on the actions of their friend. These actions are \"Walking\", \"Cleaning\", and \"Shopping\". Please view the example code below, provide observations, prior probabilities, emission probabilities, and transition probabilities and observe how the system responds.\n",
    "\n",
    "An example Markov Model can be seen below:\n",
    "\n",
    "![exampleChain](./images/exampleChain.png)\n",
    "***Note:*** *Example adapted from Wikipedia resource detailed in resources which expands on the example given in the AIMA book*"
   ]
  },
  {
   "cell_type": "code",
   "execution_count": 1,
   "metadata": {},
   "outputs": [
    {
     "data": {
      "application/vnd.jupyter.widget-view+json": {
       "model_id": "92969089812c486c8607a97c037de5da",
       "version_major": 2,
       "version_minor": 0
      },
      "text/html": [
       "<p>Failed to display Jupyter Widget of type <code>VBox</code>.</p>\n",
       "<p>\n",
       "  If you're reading this message in the Jupyter Notebook or JupyterLab Notebook, it may mean\n",
       "  that the widgets JavaScript is still loading. If this message persists, it\n",
       "  likely means that the widgets JavaScript library is either not installed or\n",
       "  not enabled. See the <a href=\"https://ipywidgets.readthedocs.io/en/stable/user_install.html\">Jupyter\n",
       "  Widgets Documentation</a> for setup instructions.\n",
       "</p>\n",
       "<p>\n",
       "  If you're reading this message in another frontend (for example, a static\n",
       "  rendering on GitHub or <a href=\"https://nbviewer.jupyter.org/\">NBViewer</a>),\n",
       "  it may mean that your frontend doesn't currently support widgets.\n",
       "</p>\n"
      ],
      "text/plain": [
       "VBox(children=(HBox(children=(Label(value='Probability of starting with Rain:'), BoundedFloatText(value=0.6, max=1.0))), HBox(children=(Label(value='Probability of staying in Rain State:'), BoundedFloatText(value=0.7, max=1.0))), HBox(children=(Label(value='Probability of staying in Sunny State:'), BoundedFloatText(value=0.6, max=1.0))), HBox(children=(Label(value='Probability of Walking when Raining:'), BoundedFloatText(value=0.1, max=1.0))), HBox(children=(Label(value='Probability of Shopping when Raining:'), BoundedFloatText(value=0.4, max=1.0))), HBox(children=(Label(value='Probability of cleaning when Raining:'), BoundedFloatText(value=0.5, max=1.0))), HBox(children=(Label(value='Probability of Walking when Sunny:'), BoundedFloatText(value=0.6, max=1.0))), HBox(children=(Label(value='Probability of Shopping when Sunny:'), BoundedFloatText(value=0.3, max=1.0))), HBox(children=(Label(value='Probability of cleaning when Sunny:'), BoundedFloatText(value=0.1, max=1.0))), HBox(children=(Label(value='Observations:'), Text(value='walk,shop,clean'))), Button(description='Run Algorithm', style=ButtonStyle()), HBox(children=(Label(value='Inferred States:'), Text(value='')))))"
      ]
     },
     "metadata": {},
     "output_type": "display_data"
    }
   ],
   "source": [
    "import numpy as np\n",
    "import ipywidgets as widgets\n",
    "from Example1_Widgets import *\n",
    "\n",
    "# The Viterbi Algorithm\n",
    "def viterbi(obs, states, start_p, trans_p, emit_p):\n",
    "    V = [{}]\n",
    "    for st in states:\n",
    "        V[0][st] = {\"prob\": start_p[st] * emit_p[st][obs[0]], \"prev\": None}\n",
    "    # Run Viterbi when t > 0\n",
    "    for t in range(1, len(obs)):\n",
    "        V.append({})\n",
    "        for st in states:\n",
    "            max_tr_prob = max(V[t-1][prev_st][\"prob\"]*trans_p[prev_st][st] for prev_st in states)\n",
    "            for prev_st in states:\n",
    "                if V[t-1][prev_st][\"prob\"] * trans_p[prev_st][st] == max_tr_prob:\n",
    "                    max_prob = max_tr_prob * emit_p[st][obs[t]]\n",
    "                    V[t][st] = {\"prob\": max_prob, \"prev\": prev_st}\n",
    "                    break\n",
    "#    for line in dptable(V):\n",
    "#        print line\n",
    "    opt = []\n",
    "    # The highest probability\n",
    "    max_prob = max(value[\"prob\"] for value in V[-1].values())\n",
    "    previous = None\n",
    "    # Get most probable state and its backtrack\n",
    "    for st, data in V[-1].items():\n",
    "        if data[\"prob\"] == max_prob:\n",
    "            opt.append(st)\n",
    "            previous = st\n",
    "            break\n",
    "    # Follow the backtrack till the first observation\n",
    "    for t in range(len(V) - 2, -1, -1):\n",
    "        opt.insert(0, V[t + 1][previous][\"prev\"])\n",
    "        previous = V[t + 1][previous][\"prev\"]\n",
    "    return (opt,max_prob)\n",
    "        \n",
    "def RunExample1(b):\n",
    "    states = ('Rainy', 'Sunny')\n",
    "    observations = str(Observations.value).split(',')\n",
    "    start_probability = {'Rainy': R_Start.value, 'Sunny': 1-R_Start.value}\n",
    "    transition_probability = {\n",
    "       'Rainy' : {'Rainy': R_Transition.value, 'Sunny': 1-R_Transition.value},\n",
    "       'Sunny' : {'Rainy': S_Transition.value, 'Sunny': 1-S_Transition.value},\n",
    "       }\n",
    "    emission_probability = {\n",
    "       'Rainy' : {'walk': R_Walk.value, 'shop': R_Shop.value, 'clean': R_Clean.value},\n",
    "       'Sunny' : {'walk': S_Walk.value, 'shop': S_Shop.value, 'clean': S_Clean.value},\n",
    "       }\n",
    "    opt,prob = viterbi(observations,states,start_probability,transition_probability,emission_probability)\n",
    "    solutionWidget.value = str(opt)\n",
    "    \n",
    "#Display Widgets\n",
    "runButton.on_click(RunExample1)\n",
    "widgets.VBox([bx1,bx2,bx3,bx4,bx5,bx6,bx7,bx8,bx9,bx10,runButton,bx11])"
   ]
  },
  {
   "cell_type": "markdown",
   "metadata": {},
   "source": [
    "## Aeromechanical Example: Recognize Engine Order Vibrational Signiture"
   ]
  },
  {
   "cell_type": "markdown",
   "metadata": {},
   "source": [
    "In aeromechanical testing, we can apply a similar process as speech recognition to build a system that can detect patterns in acquisition data. In particular, we will look at building an agent to recognize when an integral vibratory response occurs. This is done (as in speech recognition) by first placing the data in the Frequency Vs. Time domain with magnitude as the 3rd axis. This is also known as a Spectrogram or maybe a time based campbell zmod. An example of this plot can be seen below:\n",
    "\n",
    "![zmod](./images/ZMod.PNG)\n",
    "\n",
    "After we acquire or simulate several data sets, we can determine the number of frames needed and our transition probabilities. We do this by use of the EM algorithm with Gaussian Mixture Models as presented in the previous section. First, we will run EM several times on the data sets and increase or decrease our cluster count each time, We will take these and run the result clusters throught a Bayesion Info Criterion function that will determine the best cluster count to use. The cluster count will be the number of frames we need to split the data into based on our clusters. An example of this can be seen below as a 5 frame model:\n",
    "\n",
    "![zmod2](./images/ZMod2.png)\n",
    "\n",
    "Next, we determine our probabilities for our priors, transitions, and emissions. We do this based on time. We compute the probability of the data being in state i at time t. We can determine our probabilities as follows:\n",
    "\n",
    "![zmod2](./images/ZMod3.png)\n",
    "\n",
    ">  \n",
    "This yields the transition probabilities of:\n",
    ">  \n",
    "1. State 1 (Normal State) = 0.11, 0.89\n",
    "2. State 2 (EO Entrant State) = 0.125, 0.875\n",
    "3. State 3 (EO Response State) = 0.11, 0.89\n",
    "4. State 4 (EO Exit State) = 0.125, 0.875\n",
    "5. State 5 (Normal State) = 0.125, 0.875\n",
    "\n",
    "Finally, we build our model.\n",
    "\n",
    "![eohmm](./images/eoHmm.png)\n",
    "\n",
    "Now, when we run data through this model, the data values will be assigned to states based on their gaussian distribution. The probability of the data belonging to a state as well as the transition probabilities will factor into how the model is traversed. Also, depending on how the model was trained, the model will be able to support a wide range of variations such as length of time in a state, magnitudes, and frequency.\n",
    "\n",
    "***Note:*** *Due to the complexity of this example, it was not feasable to create an example program. The Running of the algorithm is similar to example 1.*"
   ]
  },
  {
   "cell_type": "markdown",
   "metadata": {},
   "source": [
    "## Review"
   ]
  },
  {
   "cell_type": "markdown",
   "metadata": {},
   "source": [
    "In this lesson, we looked at Hidden Markov Models. HMM's are used for a variety of tasks. Among these are Speech recognition, pattern recognition, process recognition, etc. We saw how HMM's try to find the hidden variables/states given a set of observations in a visual example. We also looked at an example for detecting an EO vibratory response in the data from an aeromechanical test. This example applied a similar strategy used for speech recognition to the field of aeromechanical testing. This example showed how to find the information used by the HMM using the Expectation Maximizarion algorithm with Gaussian Mixture Models. Please experiment with the examples shown, Note your observations, and try to integrate them into your own application."
   ]
  },
  {
   "cell_type": "markdown",
   "metadata": {},
   "source": [
    "## Resources"
   ]
  },
  {
   "cell_type": "markdown",
   "metadata": {
    "collapsed": true
   },
   "source": [
    "Russel, S. J., & Norvig, P. (2015). Probabilistic Reasoning over Time. In Artificial intelligence: A modern approach (3rd ed., pp. 576-581). Noida, India: Pearson India Education Services Pvt.\n",
    "\n",
    "Hidden Markov model. (2018, July 12). Retrieved from https://en.wikipedia.org/wiki/Hidden_Markov_model\n",
    "\n",
    "D. R. (n.d.). Hidden Markov Models Fundamentals.\n",
    "\n",
    "Rabiner, L. R., & Juang, B. H. (n.d.). An Introduction to Hidden Markov Models.\n",
    "\n",
    "Rabiner, L. R. (n.d.). A Tutorial on Hidden Markov Models and Selected Applications in Speech Recognition.\n",
    "\n",
    "Varga, A. P., & Moore, R. K. (n.d.). HIDDEN MARKOV MODEL DECOMPOSITION OF SPEECH AND NOISE.\n",
    "\n",
    "Viterbi algorithm. (2018, May 29). Retrieved from https://en.wikipedia.org/wiki/Viterbi_algorithm#Example"
   ]
  },
  {
   "cell_type": "code",
   "execution_count": null,
   "metadata": {},
   "outputs": [],
   "source": []
  }
 ],
 "metadata": {
  "kernelspec": {
   "display_name": "Python 3",
   "language": "python",
   "name": "python3"
  },
  "language_info": {
   "codemirror_mode": {
    "name": "ipython",
    "version": 3
   },
   "file_extension": ".py",
   "mimetype": "text/x-python",
   "name": "python",
   "nbconvert_exporter": "python",
   "pygments_lexer": "ipython3",
   "version": "3.6.4"
  },
  "widgets": {
   "application/vnd.jupyter.widget-state+json": {
    "state": {
     "03be86f19cd14fd68e6410938294feab": {
      "model_module": "@jupyter-widgets/base",
      "model_module_version": "1.0.0",
      "model_name": "LayoutModel",
      "state": {}
     },
     "040a94161cc747259f1efa059a06ab54": {
      "model_module": "@jupyter-widgets/base",
      "model_module_version": "1.0.0",
      "model_name": "LayoutModel",
      "state": {}
     },
     "04a258c4f76e4bdd86bd727df1af884a": {
      "model_module": "@jupyter-widgets/base",
      "model_module_version": "1.0.0",
      "model_name": "LayoutModel",
      "state": {}
     },
     "09a7d4a5442d438da2d76bd938dc1c63": {
      "model_module": "@jupyter-widgets/controls",
      "model_module_version": "1.1.0",
      "model_name": "HBoxModel",
      "state": {
       "children": [
        "IPY_MODEL_96611fe52eab47f6a4c3bd2f3209c0c9",
        "IPY_MODEL_bb04c618a25147fe9ce1fb7cfa7b7323"
       ],
       "layout": "IPY_MODEL_cd9f5ee910e0402e886041d3acb55d32"
      }
     },
     "09dc239e9b3a4f22bbb4a4ba1b57429e": {
      "model_module": "@jupyter-widgets/controls",
      "model_module_version": "1.1.0",
      "model_name": "DescriptionStyleModel",
      "state": {
       "description_width": ""
      }
     },
     "12db26a955bb4ecf9d9edb6716b5c52a": {
      "model_module": "@jupyter-widgets/base",
      "model_module_version": "1.0.0",
      "model_name": "LayoutModel",
      "state": {}
     },
     "14f34e7d0e4348b1b3a52ff9e9c7be82": {
      "model_module": "@jupyter-widgets/controls",
      "model_module_version": "1.1.0",
      "model_name": "DescriptionStyleModel",
      "state": {
       "description_width": ""
      }
     },
     "15c79c76ca0648918de424924010792a": {
      "model_module": "@jupyter-widgets/controls",
      "model_module_version": "1.1.0",
      "model_name": "DescriptionStyleModel",
      "state": {
       "description_width": ""
      }
     },
     "17d6ca3b14af49dea541cdbf2be03a10": {
      "model_module": "@jupyter-widgets/controls",
      "model_module_version": "1.1.0",
      "model_name": "DescriptionStyleModel",
      "state": {
       "description_width": ""
      }
     },
     "18a9b8ab246f4e269bc0e8844fd02144": {
      "model_module": "@jupyter-widgets/base",
      "model_module_version": "1.0.0",
      "model_name": "LayoutModel",
      "state": {}
     },
     "1f462b5eaf5847ff9a0775aa3caa7f18": {
      "model_module": "@jupyter-widgets/controls",
      "model_module_version": "1.1.0",
      "model_name": "LabelModel",
      "state": {
       "layout": "IPY_MODEL_627076941c444ad7889b7e824ad1d1f0",
       "style": "IPY_MODEL_3f338a595ee0441785586264c96c67c9",
       "value": "Probability of Walking when Raining:"
      }
     },
     "24fefbf05ac84e06978468ff4ee7bc58": {
      "model_module": "@jupyter-widgets/controls",
      "model_module_version": "1.1.0",
      "model_name": "HBoxModel",
      "state": {
       "children": [
        "IPY_MODEL_7956dce27aa84eb9af2ddeb42081d35d",
        "IPY_MODEL_d13b9935641942faa360af1088722eb0"
       ],
       "layout": "IPY_MODEL_487fa0a42cf14e2bbbf786ec56bb5486"
      }
     },
     "25d009f8c2834077a19313eb70b042c3": {
      "model_module": "@jupyter-widgets/base",
      "model_module_version": "1.0.0",
      "model_name": "LayoutModel",
      "state": {}
     },
     "26d1b3ff9db945a186297bd192b2e043": {
      "model_module": "@jupyter-widgets/controls",
      "model_module_version": "1.1.0",
      "model_name": "DescriptionStyleModel",
      "state": {
       "description_width": ""
      }
     },
     "2768f717871f4c98962d6781e09f12f5": {
      "model_module": "@jupyter-widgets/base",
      "model_module_version": "1.0.0",
      "model_name": "LayoutModel",
      "state": {}
     },
     "29e737586f814023aea40844b18fcd48": {
      "model_module": "@jupyter-widgets/base",
      "model_module_version": "1.0.0",
      "model_name": "LayoutModel",
      "state": {}
     },
     "2efbc4a636964e51b76d017c02b86e74": {
      "model_module": "@jupyter-widgets/controls",
      "model_module_version": "1.1.0",
      "model_name": "LabelModel",
      "state": {
       "layout": "IPY_MODEL_57a03cc62395464b9fe0d998d62e1947",
       "style": "IPY_MODEL_8b89a0f815734e718dee1aadf1a39cd2",
       "value": "Probability of cleaning when Sunny:"
      }
     },
     "305c61ccb96f423fbd8df82f7382d4c0": {
      "model_module": "@jupyter-widgets/base",
      "model_module_version": "1.0.0",
      "model_name": "LayoutModel",
      "state": {}
     },
     "3171128a07f64797962b9533d9af9ab0": {
      "model_module": "@jupyter-widgets/controls",
      "model_module_version": "1.1.0",
      "model_name": "LabelModel",
      "state": {
       "layout": "IPY_MODEL_fe21a517bc1e49c3b24df594254e1cf8",
       "style": "IPY_MODEL_67a94e5afbf646e7b56fa1db7bf11ce9",
       "value": "Probability of Shopping when Raining:"
      }
     },
     "374590c638334e4f96cc1274d83e3262": {
      "model_module": "@jupyter-widgets/base",
      "model_module_version": "1.0.0",
      "model_name": "LayoutModel",
      "state": {}
     },
     "3eeb61ddd6be401390b0030903be5366": {
      "model_module": "@jupyter-widgets/base",
      "model_module_version": "1.0.0",
      "model_name": "LayoutModel",
      "state": {}
     },
     "3f338a595ee0441785586264c96c67c9": {
      "model_module": "@jupyter-widgets/controls",
      "model_module_version": "1.1.0",
      "model_name": "DescriptionStyleModel",
      "state": {
       "description_width": ""
      }
     },
     "40e160a6e52a4831b6fc7bb20a4bb2a2": {
      "model_module": "@jupyter-widgets/controls",
      "model_module_version": "1.1.0",
      "model_name": "BoundedFloatTextModel",
      "state": {
       "layout": "IPY_MODEL_e94001e6257946e8b0bd6f2424c77d7c",
       "max": 1,
       "step": null,
       "style": "IPY_MODEL_673efda62c8040fa8100c0a962cd52d6",
       "value": 0.4
      }
     },
     "439fe89d542e4d2b92b9d8ed844b1893": {
      "model_module": "@jupyter-widgets/base",
      "model_module_version": "1.0.0",
      "model_name": "LayoutModel",
      "state": {}
     },
     "43c118438c36493983473ee795692358": {
      "model_module": "@jupyter-widgets/controls",
      "model_module_version": "1.1.0",
      "model_name": "BoundedFloatTextModel",
      "state": {
       "layout": "IPY_MODEL_740a6375a2374a9b8a0f01dfec3e0ada",
       "max": 1,
       "step": null,
       "style": "IPY_MODEL_15c79c76ca0648918de424924010792a",
       "value": 0.6
      }
     },
     "46cee5373434439393b06f4725ac10e4": {
      "model_module": "@jupyter-widgets/controls",
      "model_module_version": "1.1.0",
      "model_name": "DescriptionStyleModel",
      "state": {
       "description_width": ""
      }
     },
     "47071f1beb224e4688d67dd5216ac592": {
      "model_module": "@jupyter-widgets/controls",
      "model_module_version": "1.1.0",
      "model_name": "HBoxModel",
      "state": {
       "children": [
        "IPY_MODEL_1f462b5eaf5847ff9a0775aa3caa7f18",
        "IPY_MODEL_c8de34932e3144bc8c32b4b589016322"
       ],
       "layout": "IPY_MODEL_305c61ccb96f423fbd8df82f7382d4c0"
      }
     },
     "487fa0a42cf14e2bbbf786ec56bb5486": {
      "model_module": "@jupyter-widgets/base",
      "model_module_version": "1.0.0",
      "model_name": "LayoutModel",
      "state": {}
     },
     "4c206763acd3495fa6a52aca715ea41c": {
      "model_module": "@jupyter-widgets/controls",
      "model_module_version": "1.1.0",
      "model_name": "BoundedFloatTextModel",
      "state": {
       "layout": "IPY_MODEL_3eeb61ddd6be401390b0030903be5366",
       "max": 1,
       "step": null,
       "style": "IPY_MODEL_96957100a0264a21b31a520c1b9c5a91",
       "value": 0.3
      }
     },
     "4e7d4bd793314320b67f8df8377fa533": {
      "model_module": "@jupyter-widgets/base",
      "model_module_version": "1.0.0",
      "model_name": "LayoutModel",
      "state": {}
     },
     "4ea0cdef5b1d436abd1425d8a43e96b8": {
      "model_module": "@jupyter-widgets/base",
      "model_module_version": "1.0.0",
      "model_name": "LayoutModel",
      "state": {}
     },
     "511cf663fb22452c9fc5af46b3fc24fd": {
      "model_module": "@jupyter-widgets/controls",
      "model_module_version": "1.1.0",
      "model_name": "HBoxModel",
      "state": {
       "children": [
        "IPY_MODEL_66c159da5d6f43e9b512d85fd587af22",
        "IPY_MODEL_f0e94e35fe5b47b7bf2ea371f5149ee1"
       ],
       "layout": "IPY_MODEL_439fe89d542e4d2b92b9d8ed844b1893"
      }
     },
     "51c8da17bf274320b9b4b4e739f67f88": {
      "model_module": "@jupyter-widgets/controls",
      "model_module_version": "1.1.0",
      "model_name": "BoundedFloatTextModel",
      "state": {
       "layout": "IPY_MODEL_18a9b8ab246f4e269bc0e8844fd02144",
       "max": 1,
       "step": null,
       "style": "IPY_MODEL_df7c99f004b7452aac1c4a1595ec3098",
       "value": 0.1
      }
     },
     "5737937695fc4b8594f7695057000452": {
      "model_module": "@jupyter-widgets/base",
      "model_module_version": "1.0.0",
      "model_name": "LayoutModel",
      "state": {}
     },
     "57a03cc62395464b9fe0d998d62e1947": {
      "model_module": "@jupyter-widgets/base",
      "model_module_version": "1.0.0",
      "model_name": "LayoutModel",
      "state": {}
     },
     "5c5c3a2b8c1c4b4e8e9daed7504fd614": {
      "model_module": "@jupyter-widgets/base",
      "model_module_version": "1.0.0",
      "model_name": "LayoutModel",
      "state": {}
     },
     "627076941c444ad7889b7e824ad1d1f0": {
      "model_module": "@jupyter-widgets/base",
      "model_module_version": "1.0.0",
      "model_name": "LayoutModel",
      "state": {}
     },
     "63e8563c66f3454c9db083b684986982": {
      "model_module": "@jupyter-widgets/base",
      "model_module_version": "1.0.0",
      "model_name": "LayoutModel",
      "state": {}
     },
     "66c159da5d6f43e9b512d85fd587af22": {
      "model_module": "@jupyter-widgets/controls",
      "model_module_version": "1.1.0",
      "model_name": "LabelModel",
      "state": {
       "layout": "IPY_MODEL_374590c638334e4f96cc1274d83e3262",
       "style": "IPY_MODEL_78214416f60e47bcb74f71b743bd1009",
       "value": "Probability of staying in Rain State:"
      }
     },
     "673efda62c8040fa8100c0a962cd52d6": {
      "model_module": "@jupyter-widgets/controls",
      "model_module_version": "1.1.0",
      "model_name": "DescriptionStyleModel",
      "state": {
       "description_width": ""
      }
     },
     "67a94e5afbf646e7b56fa1db7bf11ce9": {
      "model_module": "@jupyter-widgets/controls",
      "model_module_version": "1.1.0",
      "model_name": "DescriptionStyleModel",
      "state": {
       "description_width": ""
      }
     },
     "6da51d24e351479789679cdfdbbd0c80": {
      "model_module": "@jupyter-widgets/controls",
      "model_module_version": "1.1.0",
      "model_name": "DescriptionStyleModel",
      "state": {
       "description_width": ""
      }
     },
     "71e893e08ed542849f12f54c83c0222e": {
      "model_module": "@jupyter-widgets/controls",
      "model_module_version": "1.1.0",
      "model_name": "LabelModel",
      "state": {
       "layout": "IPY_MODEL_da2b9b00bb5e4d8ba092c50ab2bf6126",
       "style": "IPY_MODEL_837892dd641c41b89238242c27606494",
       "value": "Probability of starting with Rain:"
      }
     },
     "7301fbbfd5d74f5a871eb70366a0634d": {
      "model_module": "@jupyter-widgets/base",
      "model_module_version": "1.0.0",
      "model_name": "LayoutModel",
      "state": {}
     },
     "740a6375a2374a9b8a0f01dfec3e0ada": {
      "model_module": "@jupyter-widgets/base",
      "model_module_version": "1.0.0",
      "model_name": "LayoutModel",
      "state": {}
     },
     "78214416f60e47bcb74f71b743bd1009": {
      "model_module": "@jupyter-widgets/controls",
      "model_module_version": "1.1.0",
      "model_name": "DescriptionStyleModel",
      "state": {
       "description_width": ""
      }
     },
     "7956dce27aa84eb9af2ddeb42081d35d": {
      "model_module": "@jupyter-widgets/controls",
      "model_module_version": "1.1.0",
      "model_name": "LabelModel",
      "state": {
       "layout": "IPY_MODEL_04a258c4f76e4bdd86bd727df1af884a",
       "style": "IPY_MODEL_46cee5373434439393b06f4725ac10e4",
       "value": "Observations:"
      }
     },
     "79f562710bc14c28834ea6c592a24b83": {
      "model_module": "@jupyter-widgets/controls",
      "model_module_version": "1.1.0",
      "model_name": "LabelModel",
      "state": {
       "layout": "IPY_MODEL_85c1013791104cfeba16726414f43ae3",
       "style": "IPY_MODEL_26d1b3ff9db945a186297bd192b2e043",
       "value": "Probability of Shopping when Sunny:"
      }
     },
     "819b1a80adc14f5bbddf08e6527aaddc": {
      "model_module": "@jupyter-widgets/controls",
      "model_module_version": "1.1.0",
      "model_name": "HBoxModel",
      "state": {
       "children": [
        "IPY_MODEL_2efbc4a636964e51b76d017c02b86e74",
        "IPY_MODEL_51c8da17bf274320b9b4b4e739f67f88"
       ],
       "layout": "IPY_MODEL_ed7cc53958b94dfbbe053e1a595bf884"
      }
     },
     "81dce7c44e5d4dafa89e23e39953af5e": {
      "model_module": "@jupyter-widgets/controls",
      "model_module_version": "1.1.0",
      "model_name": "HBoxModel",
      "state": {
       "children": [
        "IPY_MODEL_79f562710bc14c28834ea6c592a24b83",
        "IPY_MODEL_4c206763acd3495fa6a52aca715ea41c"
       ],
       "layout": "IPY_MODEL_ae62bcdb05dd4b89bf9d2d8f89a70827"
      }
     },
     "828a6988fed347db9f3ccc69bc70cec1": {
      "model_module": "@jupyter-widgets/controls",
      "model_module_version": "1.1.0",
      "model_name": "DescriptionStyleModel",
      "state": {
       "description_width": ""
      }
     },
     "837892dd641c41b89238242c27606494": {
      "model_module": "@jupyter-widgets/controls",
      "model_module_version": "1.1.0",
      "model_name": "DescriptionStyleModel",
      "state": {
       "description_width": ""
      }
     },
     "85c1013791104cfeba16726414f43ae3": {
      "model_module": "@jupyter-widgets/base",
      "model_module_version": "1.0.0",
      "model_name": "LayoutModel",
      "state": {}
     },
     "8694bf5d50ae41c19e2f76beed3450da": {
      "model_module": "@jupyter-widgets/controls",
      "model_module_version": "1.1.0",
      "model_name": "ButtonStyleModel",
      "state": {}
     },
     "8b89a0f815734e718dee1aadf1a39cd2": {
      "model_module": "@jupyter-widgets/controls",
      "model_module_version": "1.1.0",
      "model_name": "DescriptionStyleModel",
      "state": {
       "description_width": ""
      }
     },
     "8d12bb847a004ab79ced6b17296ddc9c": {
      "model_module": "@jupyter-widgets/controls",
      "model_module_version": "1.1.0",
      "model_name": "DescriptionStyleModel",
      "state": {
       "description_width": ""
      }
     },
     "92969089812c486c8607a97c037de5da": {
      "model_module": "@jupyter-widgets/controls",
      "model_module_version": "1.1.0",
      "model_name": "VBoxModel",
      "state": {
       "children": [
        "IPY_MODEL_b94e39a42e2540639bbcc3542f7704fc",
        "IPY_MODEL_511cf663fb22452c9fc5af46b3fc24fd",
        "IPY_MODEL_09a7d4a5442d438da2d76bd938dc1c63",
        "IPY_MODEL_47071f1beb224e4688d67dd5216ac592",
        "IPY_MODEL_fc18df610d06400aa1bd510967ee096e",
        "IPY_MODEL_d1995837c6af4cbda730202c7785b604",
        "IPY_MODEL_a562c7b00c224ad39f787599c26116c1",
        "IPY_MODEL_81dce7c44e5d4dafa89e23e39953af5e",
        "IPY_MODEL_819b1a80adc14f5bbddf08e6527aaddc",
        "IPY_MODEL_24fefbf05ac84e06978468ff4ee7bc58",
        "IPY_MODEL_e389ab16c6444aecaebf5b7805b35edd",
        "IPY_MODEL_cc2ab69ec7394af0970f6c5adede47f0"
       ],
       "layout": "IPY_MODEL_5737937695fc4b8594f7695057000452"
      }
     },
     "95bddbd4b5e14c43a6e3c54cd900e6e5": {
      "model_module": "@jupyter-widgets/base",
      "model_module_version": "1.0.0",
      "model_name": "LayoutModel",
      "state": {}
     },
     "963d77be27f14d489eaae93adbe539e6": {
      "model_module": "@jupyter-widgets/controls",
      "model_module_version": "1.1.0",
      "model_name": "DescriptionStyleModel",
      "state": {
       "description_width": ""
      }
     },
     "96611fe52eab47f6a4c3bd2f3209c0c9": {
      "model_module": "@jupyter-widgets/controls",
      "model_module_version": "1.1.0",
      "model_name": "LabelModel",
      "state": {
       "layout": "IPY_MODEL_12db26a955bb4ecf9d9edb6716b5c52a",
       "style": "IPY_MODEL_b6b86a4da0f1418c875766cf1951cb8a",
       "value": "Probability of staying in Sunny State:"
      }
     },
     "96957100a0264a21b31a520c1b9c5a91": {
      "model_module": "@jupyter-widgets/controls",
      "model_module_version": "1.1.0",
      "model_name": "DescriptionStyleModel",
      "state": {
       "description_width": ""
      }
     },
     "98013e7ecfc34e45a2f9babecad05e46": {
      "model_module": "@jupyter-widgets/base",
      "model_module_version": "1.0.0",
      "model_name": "LayoutModel",
      "state": {}
     },
     "996a86d7f2574dbe9f4caac2f69ca7d0": {
      "model_module": "@jupyter-widgets/controls",
      "model_module_version": "1.1.0",
      "model_name": "LabelModel",
      "state": {
       "layout": "IPY_MODEL_4ea0cdef5b1d436abd1425d8a43e96b8",
       "style": "IPY_MODEL_17d6ca3b14af49dea541cdbf2be03a10",
       "value": "Probability of Walking when Sunny:"
      }
     },
     "a3c97c1e659345aba53d51a03eed846d": {
      "model_module": "@jupyter-widgets/controls",
      "model_module_version": "1.1.0",
      "model_name": "DescriptionStyleModel",
      "state": {
       "description_width": ""
      }
     },
     "a562c7b00c224ad39f787599c26116c1": {
      "model_module": "@jupyter-widgets/controls",
      "model_module_version": "1.1.0",
      "model_name": "HBoxModel",
      "state": {
       "children": [
        "IPY_MODEL_996a86d7f2574dbe9f4caac2f69ca7d0",
        "IPY_MODEL_43c118438c36493983473ee795692358"
       ],
       "layout": "IPY_MODEL_040a94161cc747259f1efa059a06ab54"
      }
     },
     "ace3a51bdf8741e18d2f90114103c6f1": {
      "model_module": "@jupyter-widgets/controls",
      "model_module_version": "1.1.0",
      "model_name": "DescriptionStyleModel",
      "state": {
       "description_width": ""
      }
     },
     "acfe26e3317a4782af85ced075a39b68": {
      "model_module": "@jupyter-widgets/base",
      "model_module_version": "1.0.0",
      "model_name": "LayoutModel",
      "state": {}
     },
     "ae62bcdb05dd4b89bf9d2d8f89a70827": {
      "model_module": "@jupyter-widgets/base",
      "model_module_version": "1.0.0",
      "model_name": "LayoutModel",
      "state": {}
     },
     "b6b86a4da0f1418c875766cf1951cb8a": {
      "model_module": "@jupyter-widgets/controls",
      "model_module_version": "1.1.0",
      "model_name": "DescriptionStyleModel",
      "state": {
       "description_width": ""
      }
     },
     "b94e39a42e2540639bbcc3542f7704fc": {
      "model_module": "@jupyter-widgets/controls",
      "model_module_version": "1.1.0",
      "model_name": "HBoxModel",
      "state": {
       "children": [
        "IPY_MODEL_71e893e08ed542849f12f54c83c0222e",
        "IPY_MODEL_e99af9eb23204c38a9cf39f152261a43"
       ],
       "layout": "IPY_MODEL_5c5c3a2b8c1c4b4e8e9daed7504fd614"
      }
     },
     "bb04c618a25147fe9ce1fb7cfa7b7323": {
      "model_module": "@jupyter-widgets/controls",
      "model_module_version": "1.1.0",
      "model_name": "BoundedFloatTextModel",
      "state": {
       "layout": "IPY_MODEL_eefa842f860e46b7b47268ba3448a29c",
       "max": 1,
       "step": null,
       "style": "IPY_MODEL_8d12bb847a004ab79ced6b17296ddc9c",
       "value": 0.6
      }
     },
     "c5eb1499d50548818d6d0d3f0a2a30e3": {
      "model_module": "@jupyter-widgets/controls",
      "model_module_version": "1.1.0",
      "model_name": "TextModel",
      "state": {
       "layout": "IPY_MODEL_2768f717871f4c98962d6781e09f12f5",
       "style": "IPY_MODEL_09dc239e9b3a4f22bbb4a4ba1b57429e"
      }
     },
     "c78df8dfda0a41fd90d838f3535c58f6": {
      "model_module": "@jupyter-widgets/controls",
      "model_module_version": "1.1.0",
      "model_name": "BoundedFloatTextModel",
      "state": {
       "layout": "IPY_MODEL_acfe26e3317a4782af85ced075a39b68",
       "max": 1,
       "step": null,
       "style": "IPY_MODEL_14f34e7d0e4348b1b3a52ff9e9c7be82",
       "value": 0.5
      }
     },
     "c8de34932e3144bc8c32b4b589016322": {
      "model_module": "@jupyter-widgets/controls",
      "model_module_version": "1.1.0",
      "model_name": "BoundedFloatTextModel",
      "state": {
       "layout": "IPY_MODEL_ca6c2f799001422eb7557b4645bf2544",
       "max": 1,
       "step": null,
       "style": "IPY_MODEL_828a6988fed347db9f3ccc69bc70cec1",
       "value": 0.1
      }
     },
     "ca6c2f799001422eb7557b4645bf2544": {
      "model_module": "@jupyter-widgets/base",
      "model_module_version": "1.0.0",
      "model_name": "LayoutModel",
      "state": {}
     },
     "cc2ab69ec7394af0970f6c5adede47f0": {
      "model_module": "@jupyter-widgets/controls",
      "model_module_version": "1.1.0",
      "model_name": "HBoxModel",
      "state": {
       "children": [
        "IPY_MODEL_e09b74e8491444248b6b947034b807c6",
        "IPY_MODEL_c5eb1499d50548818d6d0d3f0a2a30e3"
       ],
       "layout": "IPY_MODEL_29e737586f814023aea40844b18fcd48"
      }
     },
     "cd9f5ee910e0402e886041d3acb55d32": {
      "model_module": "@jupyter-widgets/base",
      "model_module_version": "1.0.0",
      "model_name": "LayoutModel",
      "state": {}
     },
     "cfce8b6863cf425688f93e1f8782d5f3": {
      "model_module": "@jupyter-widgets/controls",
      "model_module_version": "1.1.0",
      "model_name": "LabelModel",
      "state": {
       "layout": "IPY_MODEL_98013e7ecfc34e45a2f9babecad05e46",
       "style": "IPY_MODEL_6da51d24e351479789679cdfdbbd0c80",
       "value": "Probability of cleaning when Raining:"
      }
     },
     "d13b9935641942faa360af1088722eb0": {
      "model_module": "@jupyter-widgets/controls",
      "model_module_version": "1.1.0",
      "model_name": "TextModel",
      "state": {
       "layout": "IPY_MODEL_95bddbd4b5e14c43a6e3c54cd900e6e5",
       "style": "IPY_MODEL_a3c97c1e659345aba53d51a03eed846d",
       "value": "walk,shop,clean"
      }
     },
     "d1995837c6af4cbda730202c7785b604": {
      "model_module": "@jupyter-widgets/controls",
      "model_module_version": "1.1.0",
      "model_name": "HBoxModel",
      "state": {
       "children": [
        "IPY_MODEL_cfce8b6863cf425688f93e1f8782d5f3",
        "IPY_MODEL_c78df8dfda0a41fd90d838f3535c58f6"
       ],
       "layout": "IPY_MODEL_7301fbbfd5d74f5a871eb70366a0634d"
      }
     },
     "da2b9b00bb5e4d8ba092c50ab2bf6126": {
      "model_module": "@jupyter-widgets/base",
      "model_module_version": "1.0.0",
      "model_name": "LayoutModel",
      "state": {}
     },
     "df7c99f004b7452aac1c4a1595ec3098": {
      "model_module": "@jupyter-widgets/controls",
      "model_module_version": "1.1.0",
      "model_name": "DescriptionStyleModel",
      "state": {
       "description_width": ""
      }
     },
     "dfdd620b6d15499b8e5498845c6c4b21": {
      "model_module": "@jupyter-widgets/controls",
      "model_module_version": "1.1.0",
      "model_name": "DescriptionStyleModel",
      "state": {
       "description_width": ""
      }
     },
     "e09b74e8491444248b6b947034b807c6": {
      "model_module": "@jupyter-widgets/controls",
      "model_module_version": "1.1.0",
      "model_name": "LabelModel",
      "state": {
       "layout": "IPY_MODEL_63e8563c66f3454c9db083b684986982",
       "style": "IPY_MODEL_dfdd620b6d15499b8e5498845c6c4b21",
       "value": "Inferred States:"
      }
     },
     "e389ab16c6444aecaebf5b7805b35edd": {
      "model_module": "@jupyter-widgets/controls",
      "model_module_version": "1.1.0",
      "model_name": "ButtonModel",
      "state": {
       "description": "Run Algorithm",
       "layout": "IPY_MODEL_fe83dc427ed8496fac3c7ceed22df505",
       "style": "IPY_MODEL_8694bf5d50ae41c19e2f76beed3450da"
      }
     },
     "e94001e6257946e8b0bd6f2424c77d7c": {
      "model_module": "@jupyter-widgets/base",
      "model_module_version": "1.0.0",
      "model_name": "LayoutModel",
      "state": {}
     },
     "e99af9eb23204c38a9cf39f152261a43": {
      "model_module": "@jupyter-widgets/controls",
      "model_module_version": "1.1.0",
      "model_name": "BoundedFloatTextModel",
      "state": {
       "layout": "IPY_MODEL_4e7d4bd793314320b67f8df8377fa533",
       "max": 1,
       "step": null,
       "style": "IPY_MODEL_ace3a51bdf8741e18d2f90114103c6f1",
       "value": 0.6
      }
     },
     "ed7cc53958b94dfbbe053e1a595bf884": {
      "model_module": "@jupyter-widgets/base",
      "model_module_version": "1.0.0",
      "model_name": "LayoutModel",
      "state": {}
     },
     "eefa842f860e46b7b47268ba3448a29c": {
      "model_module": "@jupyter-widgets/base",
      "model_module_version": "1.0.0",
      "model_name": "LayoutModel",
      "state": {}
     },
     "f0e94e35fe5b47b7bf2ea371f5149ee1": {
      "model_module": "@jupyter-widgets/controls",
      "model_module_version": "1.1.0",
      "model_name": "BoundedFloatTextModel",
      "state": {
       "layout": "IPY_MODEL_25d009f8c2834077a19313eb70b042c3",
       "max": 1,
       "step": null,
       "style": "IPY_MODEL_963d77be27f14d489eaae93adbe539e6",
       "value": 0.7
      }
     },
     "fc18df610d06400aa1bd510967ee096e": {
      "model_module": "@jupyter-widgets/controls",
      "model_module_version": "1.1.0",
      "model_name": "HBoxModel",
      "state": {
       "children": [
        "IPY_MODEL_3171128a07f64797962b9533d9af9ab0",
        "IPY_MODEL_40e160a6e52a4831b6fc7bb20a4bb2a2"
       ],
       "layout": "IPY_MODEL_03be86f19cd14fd68e6410938294feab"
      }
     },
     "fe21a517bc1e49c3b24df594254e1cf8": {
      "model_module": "@jupyter-widgets/base",
      "model_module_version": "1.0.0",
      "model_name": "LayoutModel",
      "state": {}
     },
     "fe83dc427ed8496fac3c7ceed22df505": {
      "model_module": "@jupyter-widgets/base",
      "model_module_version": "1.0.0",
      "model_name": "LayoutModel",
      "state": {}
     }
    },
    "version_major": 2,
    "version_minor": 0
   }
  }
 },
 "nbformat": 4,
 "nbformat_minor": 2
}
