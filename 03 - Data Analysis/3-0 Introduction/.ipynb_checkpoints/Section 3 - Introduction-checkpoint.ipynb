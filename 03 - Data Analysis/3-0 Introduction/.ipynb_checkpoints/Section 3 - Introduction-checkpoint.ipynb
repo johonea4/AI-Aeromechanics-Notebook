{
 "cells": [
  {
   "cell_type": "markdown",
   "metadata": {},
   "source": [
    "# Section 3  - Data Analysis\n",
    "---"
   ]
  },
  {
   "cell_type": "markdown",
   "metadata": {},
   "source": [
    "## Introduction"
   ]
  },
  {
   "cell_type": "markdown",
   "metadata": {},
   "source": [
    "This section will concentrate on the test data. The test data itself can be in file form or a live data stream from the signal acquisition hardware. Most of the algorithms presented will rely on the data being in a different domain that a standard magnitude vs. time domain and will require some pre processing. The data itself does not need to be pure in the sense where no noise is present. As these techniques are trained with noise and given several (possibly hundreds) examples of data, they will learn to ignore nosie and focus on the areas of true signal data. "
   ]
  },
  {
   "cell_type": "markdown",
   "metadata": {},
   "source": [
    "## Review: Data Acquisition and Processing"
   ]
  },
  {
   "cell_type": "markdown",
   "metadata": {},
   "source": [
    "In aeromechanical testing, we must first acquire data from a test article. We do this with sensors, acquisition hardware, and signal processing software.\n",
    "\n",
    "#### Sensors\n",
    "\n",
    "The sensors used can consist of strain gages, accelerometers, thermocouples, gyrocopes, etc. These sensors are used to sense what is occurring on the test article. This could be a vibratory even, a change in temperature, etc. These sensors are fed a voltage or current input and based on what is occurring on the test article, this voltage or current will be changed. For example, a strain gage will be fed a constant current. As the strain gage enlongates, the current decreases. As the gage compresses, the current increases. With these changes, we can infer in processing that the test article is stretching or compressing causing a stress on the article at that location. \n",
    "\n",
    "#### Acquisition Hardware\n",
    "\n",
    "The acquisition hardware is responsible for taking the Sinusoidal Analogue input from the sensors and converting it into a digital signal where a computer system can understand it. In doing this, some information is lost (as is the case with any conversion) and sometimes, this can cause noise and discrepencies in data. The quality of the signal is highly dependant on the hardware and the settings for the device.\n",
    "\n",
    "#### Acquisition Software\n",
    "\n",
    "The data acquisition software is responsible for taking the data from the acquisition hardware, filtering, and representing the signal in formats that is human readable. Some of these can be creating a Fast Fourier Transform (FFT) on the data, Calculating phase, Digital Filtering, etc. Below is a campbell diagram. This representation of the data is highly used in aeromechanical testing for discovering Engine Order responses occurring. This diagram is showing EO-6 and an EO-2 Response where the peak vibration magnitude occurrs around 6000 RPM.\n",
    "\n",
    "![campbell](./images/Campbell.PNG)"
   ]
  },
  {
   "cell_type": "code",
   "execution_count": null,
   "metadata": {},
   "outputs": [],
   "source": []
  }
 ],
 "metadata": {
  "kernelspec": {
   "display_name": "Python 3",
   "language": "python",
   "name": "python3"
  },
  "language_info": {
   "codemirror_mode": {
    "name": "ipython",
    "version": 3
   },
   "file_extension": ".py",
   "mimetype": "text/x-python",
   "name": "python",
   "nbconvert_exporter": "python",
   "pygments_lexer": "ipython3",
   "version": "3.6.4"
  }
 },
 "nbformat": 4,
 "nbformat_minor": 2
}
