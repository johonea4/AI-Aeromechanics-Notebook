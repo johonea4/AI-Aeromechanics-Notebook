{
 "cells": [
  {
   "cell_type": "markdown",
   "metadata": {},
   "source": [
    "# Lesson 3.2 Artificial Neural Netwoks\n",
    "---"
   ]
  },
  {
   "cell_type": "markdown",
   "metadata": {
    "collapsed": true
   },
   "source": [
    "## Introduction"
   ]
  },
  {
   "cell_type": "markdown",
   "metadata": {},
   "source": [
    "Artificial Neural Networks are inspired by the hypothesis that mental activity consists primarily of electromechanical activity in networks of brain cells called neurons. These neurons perform a simple function based on its inputs, and output signals if certain conditions are met. ANN's are an artificial intelligence technique used for visual processing, pattern recognition, and several other tasks. ANN's also have the ability to learn through given examples without any prior knowledge.\n",
    "\n",
    "![neuron](./images/neuron.jpg)\n",
    "\n",
    "ANN's were introduced in the early 1940's as a computational model. They gained a lot of popularity in the early research of AI in the 1980's, and eventually faded due to complexity and lack of computational power for large net systems. However, they have lately started to be re-evaluated and implemented since systems today are much more powerful, and they are being used heavily in some speech recognition systems and visual processors."
   ]
  },
  {
   "cell_type": "markdown",
   "metadata": {},
   "source": [
    "## The Algorithm"
   ]
  },
  {
   "cell_type": "markdown",
   "metadata": {},
   "source": [
    "In neural nets, a single neuron will activate (\"Fire\") when the linear combination of its input exceed some threshold. Below, we can see a simple mathematical model for a neuron:\n",
    "\n",
    "$$a_{j} = g(\\sum_{i=0}^{n} \\omega_{i,j} a_{i})$$\n",
    "\n",
    "where $a_{i}$ = The Output activation of unit i and $\\omega_{i,j}$ is the weight on a link from unit i to this unit. The below image is a graphical representation of this model.\n",
    "\n",
    "![mathModel](./images/model.PNG)"
   ]
  },
  {
   "cell_type": "markdown",
   "metadata": {},
   "source": [
    "### Neural Net Components"
   ]
  },
  {
   "cell_type": "markdown",
   "metadata": {},
   "source": [
    "The first component for neural nets is the neuron. A Neuron labelled *j* receives input $P_{j}(t)$ from predecessor neurons. These neurons consist of the following:\n",
    "\n",
    ">  \n",
    "1. Activation $a_{j}(t)$ depending on a discrete time parameter  \n",
    "2. Threshold $\\theta_{j}$ that stays fixed unless changed by a learning function  \n",
    "3. Activation Function *f* that computesthe new activation at a given time $t+1$ from $a_{j}(t),\\theta_{t}$ and the net input $P_{j}(t)$ that gives rise to the relation $a_{j}(t+1)=f(a_{j}(t),P_{j}(t),\\theta_{j})$  \n",
    "4. Output function computing the outputfrom the activation $O_{j} = f_{out}(a_{j}(t))$\n",
    "\n",
    "The second component of neural nets are the connections and weights. The network consists of connections where each connection transfers the output of a neuron *i* to the input of a neuron *j*. Each connection is assigned a weight $\\omega_{i,j}$\n",
    "\n",
    "The third component of neural nets are the propogation functions. This function computes the input of $P_{j}(t)$ to neuron *j* from outputs $O_{i}(t)$ where:\n",
    "\n",
    "$$P_{j}(t) = \\sum_{i} O_{i}(t) \\omega_{i,j}$$\n",
    "\n",
    "Lastly, neural nets consist of a learning rule. This is either a rule or algorithm that modifies the parameters of a neural net in order for a given input to the network to produce a forward output. The learning process typically simple modifies the weights and thresholds of the variables within the network."
   ]
  },
  {
   "cell_type": "markdown",
   "metadata": {},
   "source": [
    "### Neural Net Structure"
   ]
  },
  {
   "cell_type": "markdown",
   "metadata": {},
   "source": [
    "The activation function of a neron is typically a hard threshold called a perceptron or a logistic function called a sigmoid perceptron. Both functions ensure the property that the entire network of units can represent a non-linear function. The sigmoid perceptron also has some advantages such as a garunteed number between 0 and 1 and has the ability to be differentiable.\n",
    "\n",
    "There are two types of connections used in neural nets. These are the Feed-Forward networks and the Recurrent networks. Recurrent networks have a tendancy to be quite chaotic, but because these networks feed backwards into the net, short term memory is possible. Feed-Forward networks are normally arranged in layers. In a multi-layered Feed-Forward net, the layers that are located between the input layer and the output layer are known as hidden layers. Below is a graphic showing this in a 3 layered net.\n",
    "\n",
    "![Layered](./images/hiddenLayer.png)"
   ]
  },
  {
   "cell_type": "markdown",
   "metadata": {},
   "source": [
    "### Learning"
   ]
  },
  {
   "cell_type": "markdown",
   "metadata": {},
   "source": [
    "In this lesson, we will introduce a single learning technique known as Back Propogation. Back Propogation can be implemented as supervised learning, unsupervised learning, or as reinforcement learning. We will be using supervised learning in this lesson. Supervised learning is where the user can control the learning of the AI method. This is acheived by control of the given examples, and ultimate control over the outcomes.\n",
    "\n",
    "Back propogation learning is acheived in 2 main steps:\n",
    "\n",
    ">  \n",
    "1. Compute the $\\Delta$ values for the output units using the observed error.  \n",
    "2. Starting with the output layer, repeat the following steps for each layer in the net until the earliest hidden layer has been is reached:\n",
    "\n",
    ">>  \n",
    "A. Propogate the $\\Delta$ values back to the previous layer  \n",
    "B. Update the weights between the 2 layers  "
   ]
  },
  {
   "cell_type": "markdown",
   "metadata": {},
   "source": [
    "### Example Graphic"
   ]
  },
  {
   "cell_type": "markdown",
   "metadata": {},
   "source": [
    "The following graphic displays the effects of the obove. This example was created for recognizing hand-written numbers in an image. The start of the net has 1 input for each individual pixel. Then, it has 2 hidden layers that ultimately recognizize pieces of an image and the sends those signals to the output layer. After the output layer, an answer is chosen based on highest probable output.\n",
    "\n",
    "![graphic](./images/NeuralNets.gif)"
   ]
  },
  {
   "cell_type": "markdown",
   "metadata": {
    "collapsed": true
   },
   "source": [
    "## Visual Example: A simple Neural Net"
   ]
  },
  {
   "cell_type": "markdown",
   "metadata": {},
   "source": [
    "In this example, we will implement a neural net that will act on binary data. Consider the following inputs and their resultant outputs:\n",
    "\n",
    "|           |   Inputs||| Output |\n",
    "|-----------|-----------|--------|\n",
    "| Example 1 | 0 | 0 | 1 |    0   |\n",
    "| Example 2 | 0 | 1 | 1 |    1   |\n",
    "| Example 3 | 1 | 0 | 1 |    1   |\n",
    "| Example 4 | 1 | 1 | 1 |    0   |\n",
    "\n",
    "We will use these examples to train a 3 layer model over several iterations. Over these iterations, the weights of the connection between layers will be adjusted. You will see the computed error diminish. To create your own table of boolean values, feel free to edit this code block and run in the notebook instance."
   ]
  },
  {
   "cell_type": "code",
   "execution_count": 2,
   "metadata": {},
   "outputs": [
    {
     "data": {
      "application/vnd.jupyter.widget-view+json": {
       "model_id": "1a6883c9c5f946d6a733bd14d6e91a06",
       "version_major": 2,
       "version_minor": 0
      },
      "text/html": [
       "<p>Failed to display Jupyter Widget of type <code>VBox</code>.</p>\n",
       "<p>\n",
       "  If you're reading this message in the Jupyter Notebook or JupyterLab Notebook, it may mean\n",
       "  that the widgets JavaScript is still loading. If this message persists, it\n",
       "  likely means that the widgets JavaScript library is either not installed or\n",
       "  not enabled. See the <a href=\"https://ipywidgets.readthedocs.io/en/stable/user_install.html\">Jupyter\n",
       "  Widgets Documentation</a> for setup instructions.\n",
       "</p>\n",
       "<p>\n",
       "  If you're reading this message in another frontend (for example, a static\n",
       "  rendering on GitHub or <a href=\"https://nbviewer.jupyter.org/\">NBViewer</a>),\n",
       "  it may mean that your frontend doesn't currently support widgets.\n",
       "</p>\n"
      ],
      "text/plain": [
       "VBox(children=(HBox(children=(Label(value='Hidden Layer Sizes:'), Text(value='4,4'))), HBox(children=(Label(value='Number of Iterations'), IntText(value=100000))), HBox(children=(Label(value='Current Error:'), Text(value=''))), IntProgress(value=0, description='Iteration'), Button(description='Run Algorithm', style=ButtonStyle())))"
      ]
     },
     "metadata": {},
     "output_type": "display_data"
    }
   ],
   "source": [
    "import numpy as np\n",
    "from NeuralNets import NeuralNet\n",
    "from Example1_Widgets import *\n",
    "\n",
    "Inputs = [ \n",
    "    [0,0,1],\n",
    "    [0,1,1],\n",
    "    [1,0,1],\n",
    "    [1,1,1]\n",
    "]\n",
    "\n",
    "Outputs = [\n",
    "    [0],\n",
    "    [1],\n",
    "    [1],\n",
    "    [0]\n",
    "]\n",
    "\n",
    "def RunNet(b):\n",
    "    hiddenLayers = str(HiddenLayers.value).split(',')\n",
    "    sizes = []\n",
    "    sizes.append(len(Inputs[0]))\n",
    "    for l in hiddenLayers:\n",
    "        sizes.append(int(l))\n",
    "    sizes.append(len(Outputs[0]))\n",
    "    \n",
    "    countWidget.min=0\n",
    "    countWidget.max=NumIters.value\n",
    "    \n",
    "    net = NeuralNet(sizes)\n",
    "    for i in range(NumIters.value):\n",
    "        solutionWidget.value = str(net.train(np.array(Inputs),np.array(Outputs)))\n",
    "        countWidget.value=i\n",
    "\n",
    "runButton.on_click(RunNet)\n",
    "widgets.VBox([bx1,bx2,bx3,countWidget,runButton])"
   ]
  },
  {
   "cell_type": "markdown",
   "metadata": {},
   "source": [
    "In this example, we are sending the input data through the neural net and evaluating its output compared to the correct output. On each iteration, we are calculating the error difference between what is output and what is expected. We use this error to adjust the weights on the connections between the neurons between each layer. This results in the network's error to be continually decreasing. The idea is that after the network is trained and its weights ar adjusted, we could give the network data and rely on its output with a good amount of confidence."
   ]
  },
  {
   "cell_type": "markdown",
   "metadata": {},
   "source": [
    "## Aeromechanical Example: Detect Vibratory Event Using Neural Nets and Campbell Collection Grid"
   ]
  },
  {
   "cell_type": "markdown",
   "metadata": {
    "collapsed": true
   },
   "source": [
    "In this example, we will be looking at a standard campbell diagram like the one shown below. We will then devide this campbell up into a desired number of shells and create a collection grid. Each cell in this grid will keep only the highest *n* peaks in the data belonging to that cell. We can think of this as pixels in an image. The higher the pixel count, the more fine grained the image is. The lower the count, the less data we see.\n",
    "\n",
    "Here is a standard campbell diagram with clean simulated data:\n",
    "\n",
    "![campbell1](./images/Campbell.PNG)\n",
    "\n",
    "Next we will divide the campbell into a grid:\n",
    "\n",
    "![campbellGrid](./images/CampbellGrid.png)\n",
    "\n",
    "Then we take the max *n* peaks for each grid cell. Here is the result for a 20x20 grid:\n",
    "\n",
    "![campbellPoints](./images/CampbellPoints.png)\n",
    "\n",
    "Now, we have our simplified data set. Taking this data set, we can train a neural net to recognize EO response patterns. We do this by 1st assigning each grid cell to an input of the net. Then, we determine the desied outputs. The outputs cold simple be a boolean representing whether or not an EO response is occuring, or it could be 1 output for each EO where you are given what EO is responding. We will need to experiment with the net to find the best number and sizes of the hidden layers to use. An example net for a small 3x3 grid can be seen below:\n",
    "\n",
    "![ExampleGrid](./images/ExampleNet.png)\n",
    "\n",
    "Now that we have the net designed, the next step is to train it. Similar to shown in the previous example, we will supply data to the net as well as the answers. After iterating on the net and providing it many examples, the net will use its backpropogation algorithm to learn and minimize its error. After training and acheiving a desired error rate, the net is ready to take data it hasn't seen before, and make inferences as to what the data represents. It is recommended to train the net with noise. When training with noise, the net defaultly learns to ignore it. \n",
    "\n",
    "This technique would be suitable to detect an EO event and flag the data file accordingly. Neural Nets show great promise to assist aeromechanical test analysts in getting to the data that matters more quickly.\n",
    "\n",
    "Now let's try an example. This example will be similar to the previous example, but will use a grid data structure."
   ]
  },
  {
   "cell_type": "code",
   "execution_count": 1,
   "metadata": {},
   "outputs": [
    {
     "data": {
      "application/vnd.jupyter.widget-view+json": {
       "model_id": "05682187ed174c3b9712823d1b9ed3a4",
       "version_major": 2,
       "version_minor": 0
      },
      "text/html": [
       "<p>Failed to display Jupyter Widget of type <code>VBox</code>.</p>\n",
       "<p>\n",
       "  If you're reading this message in the Jupyter Notebook or JupyterLab Notebook, it may mean\n",
       "  that the widgets JavaScript is still loading. If this message persists, it\n",
       "  likely means that the widgets JavaScript library is either not installed or\n",
       "  not enabled. See the <a href=\"https://ipywidgets.readthedocs.io/en/stable/user_install.html\">Jupyter\n",
       "  Widgets Documentation</a> for setup instructions.\n",
       "</p>\n",
       "<p>\n",
       "  If you're reading this message in another frontend (for example, a static\n",
       "  rendering on GitHub or <a href=\"https://nbviewer.jupyter.org/\">NBViewer</a>),\n",
       "  it may mean that your frontend doesn't currently support widgets.\n",
       "</p>\n"
      ],
      "text/plain": [
       "VBox(children=(HBox(children=(Label(value='Hidden Layer Sizes:'), Text(value='4,4'))), HBox(children=(Label(value='Number of Iterations'), IntText(value=100000))), HBox(children=(Label(value='Current Error:'), Text(value=''))), IntProgress(value=0, description='Iteration'), Button(description='Run Algorithm', style=ButtonStyle())))"
      ]
     },
     "metadata": {},
     "output_type": "display_data"
    }
   ],
   "source": [
    "import numpy as np\n",
    "from NeuralNets import NeuralNet\n",
    "import Example2_Widgets as ew\n",
    "\n",
    "Examples = [\n",
    "[ \n",
    "    [0    ,0    ,0.8],\n",
    "    [0    ,1    ,0  ],\n",
    "    [0.8  ,0    ,0  ]\n",
    "],\n",
    "[ \n",
    "    [0    ,0    ,0    ],\n",
    "    [0    ,0    ,0.8  ],\n",
    "    [0    ,0.8  ,0  ]\n",
    "],\n",
    "[ \n",
    "    [0      ,0.8   ,0],\n",
    "    [0.8    ,0     ,0  ],\n",
    "    [0.8    ,0     ,0  ]\n",
    "]\n",
    "]\n",
    "#EO1, EO2, EO3\n",
    "Outputs = [\n",
    "    [0,1,0],\n",
    "    [1,0,0],\n",
    "    [0,0,1]\n",
    "]\n",
    "\n",
    "def RunNet2(b):\n",
    "    hiddenLayers = str(ew.HiddenLayers.value).split(',')\n",
    "    sizes = []\n",
    "    examples = []\n",
    "    for ex in Examples:\n",
    "        examples.append(np.array(ex).flatten())\n",
    "\n",
    "    sizes.append(len(examples[0]))\n",
    "    for l in hiddenLayers:\n",
    "        sizes.append(int(l))\n",
    "    sizes.append(len(Outputs[0]))\n",
    "    \n",
    "    ew.countWidget.min=0\n",
    "    ew.countWidget.max=ew.NumIters.value\n",
    "    \n",
    "    net = NeuralNet(sizes)\n",
    "    for i in range(ew.NumIters.value):\n",
    "        ew.solutionWidget.value = str(net.train(np.array(examples),np.array(Outputs)))\n",
    "        ew.countWidget.value=i\n",
    "\n",
    "ew.runButton.on_click(RunNet2)\n",
    "ew.widgets.VBox([ew.bx1,ew.bx2,ew.bx3,ew.countWidget,ew.runButton])"
   ]
  },
  {
   "cell_type": "markdown",
   "metadata": {},
   "source": [
    "## Review"
   ]
  },
  {
   "cell_type": "markdown",
   "metadata": {},
   "source": [
    "In this lesson, we discussed the concepts of neural nets. Neural Nets are powerful tools in the field AI, but they highly depend on their training. In the field of Aeromechanical testing, Neural nets can be used for detection and pattern recognition. They can be used to detect EO responses, to extract an EO response in the midst of noise, and assist analysts by flagging what is possibly in the data file. We have seen how to construct neural nets, how they work, and how we can use back propogation for learning. \n",
    "\n",
    "The code for the neural networks can be seen here:\n",
    "\n",
    "[NeuralNets](./NeuralNets.py)"
   ]
  },
  {
   "cell_type": "markdown",
   "metadata": {},
   "source": [
    "## Resources"
   ]
  },
  {
   "cell_type": "markdown",
   "metadata": {},
   "source": [
    "Russel, S. J., & Norvig, P. (2015). Learning From Examples. In Artificial intelligence: A modern approach (3rd ed., pp. 740-750). Noida, India: Pearson India Education Services Pvt.\n",
    "\n",
    "A Basic Introduction To Neural Networks. (n.d.). Retrieved from http://pages.cs.wisc.edu/~bolo/shipyard/neural/local.html\n",
    "\n",
    "A Neural Network in 11 lines of Python (Part 1). (n.d.). Retrieved from https://iamtrask.github.io/2015/07/12/basic-python-network/\n",
    "\n",
    "M. (2018, March 12). Mnielsen/neural-networks-and-deep-learning. Retrieved from https://github.com/mnielsen/neural-networks-and-deep-learning\n",
    "\n",
    "N., & A., M. (1970, January 01). Neural Networks and Deep Learning. Retrieved from http://neuralnetworksanddeeplearning.com/chap1.html"
   ]
  },
  {
   "cell_type": "code",
   "execution_count": null,
   "metadata": {
    "collapsed": true
   },
   "outputs": [],
   "source": []
  }
 ],
 "metadata": {
  "kernelspec": {
   "display_name": "Python 3",
   "language": "python",
   "name": "python3"
  },
  "language_info": {
   "codemirror_mode": {
    "name": "ipython",
    "version": 3
   },
   "file_extension": ".py",
   "mimetype": "text/x-python",
   "name": "python",
   "nbconvert_exporter": "python",
   "pygments_lexer": "ipython3",
   "version": "3.6.4"
  },
  "widgets": {
   "application/vnd.jupyter.widget-state+json": {
    "state": {
     "009259a220c14e7193ea118aa791112a": {
      "model_module": "@jupyter-widgets/base",
      "model_module_version": "1.0.0",
      "model_name": "LayoutModel",
      "state": {}
     },
     "019731e079984469ac040a95a8bb3a1b": {
      "model_module": "@jupyter-widgets/controls",
      "model_module_version": "1.0.0",
      "model_name": "TextModel",
      "state": {
       "layout": "IPY_MODEL_357485e58da64797838915ca93d4ebed",
       "style": "IPY_MODEL_521218cb04ba4833b7cfa5a0fdccd30c",
       "value": "0.0015993769772"
      }
     },
     "02bdeba89a1a48e88ae75fed346302af": {
      "model_module": "@jupyter-widgets/controls",
      "model_module_version": "1.0.0",
      "model_name": "HBoxModel",
      "state": {
       "children": [
        "IPY_MODEL_23ba715d6fe94eb0b6559785dec18484",
        "IPY_MODEL_b58f11e4e3664773916ae320a8ac22b0"
       ],
       "layout": "IPY_MODEL_15f8818276604ed5b64eb5a75436762b"
      }
     },
     "08f4178da79c46188ee13b89e4909467": {
      "model_module": "@jupyter-widgets/base",
      "model_module_version": "1.0.0",
      "model_name": "LayoutModel",
      "state": {}
     },
     "0aab1883d83b472786ee0b474b5ab235": {
      "model_module": "@jupyter-widgets/controls",
      "model_module_version": "1.0.0",
      "model_name": "DescriptionStyleModel",
      "state": {
       "description_width": ""
      }
     },
     "0b1545d04b784f848cdbdde66b6e6ce0": {
      "model_module": "@jupyter-widgets/base",
      "model_module_version": "1.0.0",
      "model_name": "LayoutModel",
      "state": {}
     },
     "0b474e59a1a34564a15adcc8919ce56b": {
      "model_module": "@jupyter-widgets/base",
      "model_module_version": "1.0.0",
      "model_name": "LayoutModel",
      "state": {}
     },
     "0bbdbe45d8cb47a78cbccbcbd8300c14": {
      "model_module": "@jupyter-widgets/controls",
      "model_module_version": "1.0.0",
      "model_name": "ProgressStyleModel",
      "state": {
       "description_width": ""
      }
     },
     "0c0e157be3b04836af7f5170c9e345b5": {
      "model_module": "@jupyter-widgets/controls",
      "model_module_version": "1.0.0",
      "model_name": "ButtonStyleModel",
      "state": {}
     },
     "0e5843b817074beb805ef10d22b38bd5": {
      "model_module": "@jupyter-widgets/controls",
      "model_module_version": "1.0.0",
      "model_name": "IntTextModel",
      "state": {
       "layout": "IPY_MODEL_c882d113b87e47149ed6c6f82b820b58",
       "step": 1,
       "style": "IPY_MODEL_dfffe92ee005432396ee2b6188ce403e",
       "value": 100000
      }
     },
     "10f80eae059f41a5a9ab2c1560358eea": {
      "model_module": "@jupyter-widgets/base",
      "model_module_version": "1.0.0",
      "model_name": "LayoutModel",
      "state": {}
     },
     "13d7b3621d284161893affbfda360542": {
      "model_module": "@jupyter-widgets/controls",
      "model_module_version": "1.0.0",
      "model_name": "TextModel",
      "state": {
       "layout": "IPY_MODEL_6f173dc50d974686ad7615f87f4e394b",
       "style": "IPY_MODEL_5db13751a7fd4ec9b548a4df0d198654"
      }
     },
     "1476db26ba4d4d9c8a0a6d170d4010f8": {
      "model_module": "@jupyter-widgets/controls",
      "model_module_version": "1.0.0",
      "model_name": "VBoxModel",
      "state": {
       "children": [
        "IPY_MODEL_afa4bba82af443be8763e218d82633e6",
        "IPY_MODEL_18b7a9b5117e4f1eb353998ae5083c0c",
        "IPY_MODEL_9962ee51123e4fa59184bb46607abbd5",
        "IPY_MODEL_14eac655559c4bd2a59f33e598e29975"
       ],
       "layout": "IPY_MODEL_0b474e59a1a34564a15adcc8919ce56b"
      }
     },
     "14ba3dedb5c94612ac3543514c4205c7": {
      "model_module": "@jupyter-widgets/base",
      "model_module_version": "1.0.0",
      "model_name": "LayoutModel",
      "state": {}
     },
     "14eac655559c4bd2a59f33e598e29975": {
      "model_module": "@jupyter-widgets/controls",
      "model_module_version": "1.0.0",
      "model_name": "ButtonModel",
      "state": {
       "description": "Run Algorithm",
       "layout": "IPY_MODEL_2f459d851c1641168716e7be35e09aab",
       "style": "IPY_MODEL_80abcbecd1ed4749a567c6b19ed78766"
      }
     },
     "15d5651382fe4211a89348f3900da4b7": {
      "model_module": "@jupyter-widgets/controls",
      "model_module_version": "1.0.0",
      "model_name": "DescriptionStyleModel",
      "state": {
       "description_width": ""
      }
     },
     "15f8818276604ed5b64eb5a75436762b": {
      "model_module": "@jupyter-widgets/base",
      "model_module_version": "1.0.0",
      "model_name": "LayoutModel",
      "state": {}
     },
     "164c38e86f684bab843bcda2157912ac": {
      "model_module": "@jupyter-widgets/base",
      "model_module_version": "1.0.0",
      "model_name": "LayoutModel",
      "state": {}
     },
     "16ed7420d07e42adb6543958fbac082f": {
      "model_module": "@jupyter-widgets/controls",
      "model_module_version": "1.0.0",
      "model_name": "IntProgressModel",
      "state": {
       "description": "Iteration",
       "layout": "IPY_MODEL_a81552601fab408d9d9180c787ed1916",
       "max": 10000,
       "style": "IPY_MODEL_0bbdbe45d8cb47a78cbccbcbd8300c14",
       "value": 9870
      }
     },
     "176252bbb80d43ae9f58b20d8e183036": {
      "model_module": "@jupyter-widgets/controls",
      "model_module_version": "1.0.0",
      "model_name": "HBoxModel",
      "state": {
       "children": [
        "IPY_MODEL_fde9027cf5e94c4b866010f52a5d1923",
        "IPY_MODEL_f04fc9e194ab44a7a81b635608df7e08"
       ],
       "layout": "IPY_MODEL_14ba3dedb5c94612ac3543514c4205c7"
      }
     },
     "17971118ee1e41a98a888d8914cae92e": {
      "model_module": "@jupyter-widgets/base",
      "model_module_version": "1.0.0",
      "model_name": "LayoutModel",
      "state": {}
     },
     "17d146c7ef7a44e1a6a3ef9d477b25f5": {
      "model_module": "@jupyter-widgets/controls",
      "model_module_version": "1.0.0",
      "model_name": "DescriptionStyleModel",
      "state": {
       "description_width": ""
      }
     },
     "184ca6a60c8041b0a23b092dba122574": {
      "model_module": "@jupyter-widgets/base",
      "model_module_version": "1.0.0",
      "model_name": "LayoutModel",
      "state": {}
     },
     "18b7a9b5117e4f1eb353998ae5083c0c": {
      "model_module": "@jupyter-widgets/controls",
      "model_module_version": "1.0.0",
      "model_name": "HBoxModel",
      "state": {
       "children": [
        "IPY_MODEL_2132f839d8b14de680ccd9ff5fa64368",
        "IPY_MODEL_63d08900a33e4ab39f8d706953044d24"
       ],
       "layout": "IPY_MODEL_af119765f0ad46dfbc593546fa638d9a"
      }
     },
     "19080a009b094dd1a5574934c9f2c2a7": {
      "model_module": "@jupyter-widgets/controls",
      "model_module_version": "1.0.0",
      "model_name": "DescriptionStyleModel",
      "state": {
       "description_width": ""
      }
     },
     "19ced27a633941d78769830c6d44925e": {
      "model_module": "@jupyter-widgets/base",
      "model_module_version": "1.0.0",
      "model_name": "LayoutModel",
      "state": {}
     },
     "19e0a1d6a7ca42879d0aa0747bf00b11": {
      "model_module": "@jupyter-widgets/controls",
      "model_module_version": "1.0.0",
      "model_name": "HBoxModel",
      "state": {
       "children": [
        "IPY_MODEL_ab733a878f3044e294d5774de4a31d17",
        "IPY_MODEL_13d7b3621d284161893affbfda360542"
       ],
       "layout": "IPY_MODEL_164c38e86f684bab843bcda2157912ac"
      }
     },
     "1a032225600b48cbad55368e647963a0": {
      "model_module": "@jupyter-widgets/controls",
      "model_module_version": "1.0.0",
      "model_name": "DescriptionStyleModel",
      "state": {
       "description_width": ""
      }
     },
     "1a0bfdc570db4fa18e08d2bb467309b2": {
      "model_module": "@jupyter-widgets/base",
      "model_module_version": "1.0.0",
      "model_name": "LayoutModel",
      "state": {}
     },
     "1bb480fabfe142959873c0eca78e332c": {
      "model_module": "@jupyter-widgets/base",
      "model_module_version": "1.0.0",
      "model_name": "LayoutModel",
      "state": {}
     },
     "1d0c26f204294ecdbb2454adb113be9b": {
      "model_module": "@jupyter-widgets/base",
      "model_module_version": "1.0.0",
      "model_name": "LayoutModel",
      "state": {}
     },
     "1d4b9a4130714c348cdf9885e2bfdcd1": {
      "model_module": "@jupyter-widgets/controls",
      "model_module_version": "1.0.0",
      "model_name": "HBoxModel",
      "state": {
       "children": [
        "IPY_MODEL_ee778b76622c435c94e4102933a131d0",
        "IPY_MODEL_dc6c070cad8e4b04827ebfd073d9b260"
       ],
       "layout": "IPY_MODEL_5645b956408f4dad942b314cbb1ee5ed"
      }
     },
     "1e2f87b8330547f5bdebde3c09efb450": {
      "model_module": "@jupyter-widgets/controls",
      "model_module_version": "1.0.0",
      "model_name": "TextModel",
      "state": {
       "layout": "IPY_MODEL_3c29b3affc2f41b5b56aaa97bc32ae53",
       "style": "IPY_MODEL_e57af48e4cfd4a52afd33208ae0f36f0",
       "value": "4,4"
      }
     },
     "2132f839d8b14de680ccd9ff5fa64368": {
      "model_module": "@jupyter-widgets/controls",
      "model_module_version": "1.0.0",
      "model_name": "LabelModel",
      "state": {
       "layout": "IPY_MODEL_184ca6a60c8041b0a23b092dba122574",
       "style": "IPY_MODEL_3c9af96476e84993a8d9eb3c5cadeb8f",
       "value": "Number of Iterations"
      }
     },
     "231d6c8a010e480e8c548426ffad1b68": {
      "model_module": "@jupyter-widgets/controls",
      "model_module_version": "1.0.0",
      "model_name": "DescriptionStyleModel",
      "state": {
       "description_width": ""
      }
     },
     "23ba715d6fe94eb0b6559785dec18484": {
      "model_module": "@jupyter-widgets/controls",
      "model_module_version": "1.0.0",
      "model_name": "LabelModel",
      "state": {
       "layout": "IPY_MODEL_26357a74a0a04ac9890c91d3e19fb30f",
       "style": "IPY_MODEL_8027cb51a1f14f419dc45c8f205a90fc",
       "value": "Current Error:"
      }
     },
     "2481a77d117345e3a7920289867f418c": {
      "model_module": "@jupyter-widgets/controls",
      "model_module_version": "1.0.0",
      "model_name": "DescriptionStyleModel",
      "state": {
       "description_width": ""
      }
     },
     "26357a74a0a04ac9890c91d3e19fb30f": {
      "model_module": "@jupyter-widgets/base",
      "model_module_version": "1.0.0",
      "model_name": "LayoutModel",
      "state": {}
     },
     "28769950ad0b49f9b587b2f78224254b": {
      "model_module": "@jupyter-widgets/base",
      "model_module_version": "1.0.0",
      "model_name": "LayoutModel",
      "state": {}
     },
     "28ffca5556b946a98d6ee142550fed68": {
      "model_module": "@jupyter-widgets/controls",
      "model_module_version": "1.0.0",
      "model_name": "VBoxModel",
      "state": {
       "children": [
        "IPY_MODEL_1d4b9a4130714c348cdf9885e2bfdcd1",
        "IPY_MODEL_c599b1f6fe6e425a989f415581adc995",
        "IPY_MODEL_8e701802a428419c85aeb0c5f66af933",
        "IPY_MODEL_16ed7420d07e42adb6543958fbac082f",
        "IPY_MODEL_45edece35f4c4ce19f68b81192996a3e"
       ],
       "layout": "IPY_MODEL_ac580c75e4f548db9759d6d3a5f96103"
      }
     },
     "293ecefd4a4e49f9b98786eb50cf206f": {
      "model_module": "@jupyter-widgets/base",
      "model_module_version": "1.0.0",
      "model_name": "LayoutModel",
      "state": {}
     },
     "29e4d3b6ca3f4074a8bc3c548f565b4b": {
      "model_module": "@jupyter-widgets/base",
      "model_module_version": "1.0.0",
      "model_name": "LayoutModel",
      "state": {}
     },
     "2d9e5a1a4a64447a8bc2a4f3a9beeb6f": {
      "model_module": "@jupyter-widgets/base",
      "model_module_version": "1.0.0",
      "model_name": "LayoutModel",
      "state": {}
     },
     "2f459d851c1641168716e7be35e09aab": {
      "model_module": "@jupyter-widgets/base",
      "model_module_version": "1.0.0",
      "model_name": "LayoutModel",
      "state": {}
     },
     "2fd329e88532448b85d08f61ebc58edc": {
      "model_module": "@jupyter-widgets/base",
      "model_module_version": "1.0.0",
      "model_name": "LayoutModel",
      "state": {}
     },
     "2ff7886d4be84e1faf4b82d4e1d0e447": {
      "model_module": "@jupyter-widgets/controls",
      "model_module_version": "1.0.0",
      "model_name": "DescriptionStyleModel",
      "state": {
       "description_width": ""
      }
     },
     "31c793bea0f34570b39a2c5683821b9b": {
      "model_module": "@jupyter-widgets/base",
      "model_module_version": "1.0.0",
      "model_name": "LayoutModel",
      "state": {}
     },
     "3269daff13a946008bc7114f1e16a814": {
      "model_module": "@jupyter-widgets/base",
      "model_module_version": "1.0.0",
      "model_name": "LayoutModel",
      "state": {}
     },
     "357485e58da64797838915ca93d4ebed": {
      "model_module": "@jupyter-widgets/base",
      "model_module_version": "1.0.0",
      "model_name": "LayoutModel",
      "state": {}
     },
     "35786357dee545d8a486ed6d413bf5a4": {
      "model_module": "@jupyter-widgets/controls",
      "model_module_version": "1.0.0",
      "model_name": "VBoxModel",
      "state": {
       "children": [
        "IPY_MODEL_c34b4a1657614960a25adf8b5c1095c6",
        "IPY_MODEL_e831ccd7c1ea4ec48d7b52fd29165ffb",
        "IPY_MODEL_19e0a1d6a7ca42879d0aa0747bf00b11",
        "IPY_MODEL_8005fade9ae740d0825e5696aab2dbad"
       ],
       "layout": "IPY_MODEL_5a75937e88d64a08b0757de39f79d670"
      }
     },
     "35b48e83e8fe4106b065a40c601b4e46": {
      "model_module": "@jupyter-widgets/controls",
      "model_module_version": "1.0.0",
      "model_name": "TextModel",
      "state": {
       "layout": "IPY_MODEL_9034747cea084eeeb584f0aca350e32d",
       "style": "IPY_MODEL_e5ad90659c1949fc9eb7ac983fd061a3",
       "value": "4,4"
      }
     },
     "392b5449b91146fc8d7fd433d7b85041": {
      "model_module": "@jupyter-widgets/controls",
      "model_module_version": "1.0.0",
      "model_name": "LabelModel",
      "state": {
       "layout": "IPY_MODEL_c61cd645a28a4191a8bc972eba573fe9",
       "style": "IPY_MODEL_19080a009b094dd1a5574934c9f2c2a7",
       "value": "Number of Iterations"
      }
     },
     "39d3e9870cee46b7b855fa1f34aba4fd": {
      "model_module": "@jupyter-widgets/base",
      "model_module_version": "1.0.0",
      "model_name": "LayoutModel",
      "state": {}
     },
     "39fce1d397df4e8d8269f8391141b645": {
      "model_module": "@jupyter-widgets/base",
      "model_module_version": "1.0.0",
      "model_name": "LayoutModel",
      "state": {}
     },
     "3a76fc2e6a604d73b3f1dfd2d8cf5086": {
      "model_module": "@jupyter-widgets/base",
      "model_module_version": "1.0.0",
      "model_name": "LayoutModel",
      "state": {}
     },
     "3b8a84faa2614d1380cceb21ba7057cd": {
      "model_module": "@jupyter-widgets/controls",
      "model_module_version": "1.0.0",
      "model_name": "VBoxModel",
      "state": {
       "children": [
        "IPY_MODEL_4077896f65b7493c9d3af6e8b19bfdc0",
        "IPY_MODEL_176252bbb80d43ae9f58b20d8e183036",
        "IPY_MODEL_ed478845e0b04379ad985b0591da5219",
        "IPY_MODEL_5ee4865eb551432cb993185269835faa"
       ],
       "layout": "IPY_MODEL_009259a220c14e7193ea118aa791112a"
      }
     },
     "3c29b3affc2f41b5b56aaa97bc32ae53": {
      "model_module": "@jupyter-widgets/base",
      "model_module_version": "1.0.0",
      "model_name": "LayoutModel",
      "state": {}
     },
     "3c9af96476e84993a8d9eb3c5cadeb8f": {
      "model_module": "@jupyter-widgets/controls",
      "model_module_version": "1.0.0",
      "model_name": "DescriptionStyleModel",
      "state": {
       "description_width": ""
      }
     },
     "4077896f65b7493c9d3af6e8b19bfdc0": {
      "model_module": "@jupyter-widgets/controls",
      "model_module_version": "1.0.0",
      "model_name": "HBoxModel",
      "state": {
       "children": [
        "IPY_MODEL_5b77861ac01b47d1b0d0df898ef0650a",
        "IPY_MODEL_35b48e83e8fe4106b065a40c601b4e46"
       ],
       "layout": "IPY_MODEL_0b1545d04b784f848cdbdde66b6e6ce0"
      }
     },
     "40ed8c01546940e6b480bd429f5227e5": {
      "model_module": "@jupyter-widgets/controls",
      "model_module_version": "1.0.0",
      "model_name": "LabelModel",
      "state": {
       "layout": "IPY_MODEL_ae9e7260158c4adc9bc95589794f75c6",
       "style": "IPY_MODEL_5918c804386046a0b29e92dfe7fcdb03",
       "value": "Current Error:"
      }
     },
     "40fbdc08d17d4833aa986a7cd8577d11": {
      "model_module": "@jupyter-widgets/controls",
      "model_module_version": "1.0.0",
      "model_name": "VBoxModel",
      "state": {
       "children": [
        "IPY_MODEL_c34b4a1657614960a25adf8b5c1095c6",
        "IPY_MODEL_e831ccd7c1ea4ec48d7b52fd29165ffb",
        "IPY_MODEL_19e0a1d6a7ca42879d0aa0747bf00b11",
        "IPY_MODEL_8005fade9ae740d0825e5696aab2dbad"
       ],
       "layout": "IPY_MODEL_adba9610a0a54352989bf0c14e348491"
      }
     },
     "45bbe8521e4b4b449841498c25957aae": {
      "model_module": "@jupyter-widgets/controls",
      "model_module_version": "1.0.0",
      "model_name": "ButtonStyleModel",
      "state": {}
     },
     "45edece35f4c4ce19f68b81192996a3e": {
      "model_module": "@jupyter-widgets/controls",
      "model_module_version": "1.0.0",
      "model_name": "ButtonModel",
      "state": {
       "description": "Run Algorithm",
       "layout": "IPY_MODEL_70c187f3875b4cdfa8c4daab544003a8",
       "style": "IPY_MODEL_0c0e157be3b04836af7f5170c9e345b5"
      }
     },
     "49348849542947f79c3a9f72f952add6": {
      "model_module": "@jupyter-widgets/base",
      "model_module_version": "1.0.0",
      "model_name": "LayoutModel",
      "state": {}
     },
     "4bec5386ad2c4d82ba19941eccddd5bc": {
      "model_module": "@jupyter-widgets/controls",
      "model_module_version": "1.0.0",
      "model_name": "ProgressStyleModel",
      "state": {
       "description_width": ""
      }
     },
     "4ffa7c14ff494fbe9ead27f3fbf765eb": {
      "model_module": "@jupyter-widgets/controls",
      "model_module_version": "1.0.0",
      "model_name": "HBoxModel",
      "state": {
       "children": [
        "IPY_MODEL_a628ea855549445eb0669d80f736226a",
        "IPY_MODEL_bc3ae859ed13440580611ef51d9bded4"
       ],
       "layout": "IPY_MODEL_dbb12c97360e4ff6bfa3ce9bd97e7e2e"
      }
     },
     "5043db8d2e104faa8dafaa9f977d8326": {
      "model_module": "@jupyter-widgets/controls",
      "model_module_version": "1.0.0",
      "model_name": "DescriptionStyleModel",
      "state": {
       "description_width": ""
      }
     },
     "50911239d90a43028a280089c9f524ce": {
      "model_module": "@jupyter-widgets/controls",
      "model_module_version": "1.0.0",
      "model_name": "DescriptionStyleModel",
      "state": {
       "description_width": ""
      }
     },
     "521218cb04ba4833b7cfa5a0fdccd30c": {
      "model_module": "@jupyter-widgets/controls",
      "model_module_version": "1.0.0",
      "model_name": "DescriptionStyleModel",
      "state": {
       "description_width": ""
      }
     },
     "54ed8565819c4114a9ff67d22c96a8b3": {
      "model_module": "@jupyter-widgets/controls",
      "model_module_version": "1.0.0",
      "model_name": "VBoxModel",
      "state": {
       "children": [
        "IPY_MODEL_1d4b9a4130714c348cdf9885e2bfdcd1",
        "IPY_MODEL_c599b1f6fe6e425a989f415581adc995",
        "IPY_MODEL_8e701802a428419c85aeb0c5f66af933",
        "IPY_MODEL_16ed7420d07e42adb6543958fbac082f",
        "IPY_MODEL_45edece35f4c4ce19f68b81192996a3e"
       ],
       "layout": "IPY_MODEL_993f99f39d784763b583551666f7a8ae"
      }
     },
     "56424894c39c46b9921ca4e7cf81f218": {
      "model_module": "@jupyter-widgets/controls",
      "model_module_version": "1.0.0",
      "model_name": "IntProgressModel",
      "state": {
       "description": "Iteration",
       "layout": "IPY_MODEL_9b9796bf0d794497a3a0d0fe0125b15d",
       "max": 100000,
       "style": "IPY_MODEL_a14e08d289e146f3b9e35fa34e530f8b",
       "value": 99164
      }
     },
     "56446b72e509428b8aed4751c83b0e87": {
      "model_module": "@jupyter-widgets/controls",
      "model_module_version": "1.0.0",
      "model_name": "DescriptionStyleModel",
      "state": {
       "description_width": ""
      }
     },
     "5645b956408f4dad942b314cbb1ee5ed": {
      "model_module": "@jupyter-widgets/base",
      "model_module_version": "1.0.0",
      "model_name": "LayoutModel",
      "state": {}
     },
     "5918c804386046a0b29e92dfe7fcdb03": {
      "model_module": "@jupyter-widgets/controls",
      "model_module_version": "1.0.0",
      "model_name": "DescriptionStyleModel",
      "state": {
       "description_width": ""
      }
     },
     "5a75937e88d64a08b0757de39f79d670": {
      "model_module": "@jupyter-widgets/base",
      "model_module_version": "1.0.0",
      "model_name": "LayoutModel",
      "state": {}
     },
     "5b77861ac01b47d1b0d0df898ef0650a": {
      "model_module": "@jupyter-widgets/controls",
      "model_module_version": "1.0.0",
      "model_name": "LabelModel",
      "state": {
       "layout": "IPY_MODEL_98d65a8989b1442dbfb8d89cc6381b75",
       "style": "IPY_MODEL_6fc3c79bd1494ddbab7887cced17bafd",
       "value": "Hidden Layer Sizes:"
      }
     },
     "5bae0fc71cba4f92adf33b8a4fa270b6": {
      "model_module": "@jupyter-widgets/base",
      "model_module_version": "1.0.0",
      "model_name": "LayoutModel",
      "state": {}
     },
     "5bd060ab7487440d8c9dabd918991cac": {
      "model_module": "@jupyter-widgets/controls",
      "model_module_version": "1.0.0",
      "model_name": "DescriptionStyleModel",
      "state": {
       "description_width": ""
      }
     },
     "5c73f6dbd5b34a5285c20b16d1367a3c": {
      "model_module": "@jupyter-widgets/controls",
      "model_module_version": "1.0.0",
      "model_name": "ButtonStyleModel",
      "state": {}
     },
     "5cbc7c90a59b4f3282ca7dec09dd3adb": {
      "model_module": "@jupyter-widgets/base",
      "model_module_version": "1.0.0",
      "model_name": "LayoutModel",
      "state": {}
     },
     "5db13751a7fd4ec9b548a4df0d198654": {
      "model_module": "@jupyter-widgets/controls",
      "model_module_version": "1.0.0",
      "model_name": "DescriptionStyleModel",
      "state": {
       "description_width": ""
      }
     },
     "5ee4865eb551432cb993185269835faa": {
      "model_module": "@jupyter-widgets/controls",
      "model_module_version": "1.0.0",
      "model_name": "ButtonModel",
      "state": {
       "description": "Run Algorithm",
       "layout": "IPY_MODEL_1bb480fabfe142959873c0eca78e332c",
       "style": "IPY_MODEL_63dbd7c7ae9c485ab382387520740eb6"
      }
     },
     "602f329b4dd74255957dc95977fc4dca": {
      "model_module": "@jupyter-widgets/controls",
      "model_module_version": "1.0.0",
      "model_name": "LabelModel",
      "state": {
       "layout": "IPY_MODEL_979f423cf71942939737e7e97536734c",
       "style": "IPY_MODEL_6bba780d877d4e70946eab5441e70d62",
       "value": "Hidden Layer Sizes:"
      }
     },
     "63d08900a33e4ab39f8d706953044d24": {
      "model_module": "@jupyter-widgets/controls",
      "model_module_version": "1.0.0",
      "model_name": "IntTextModel",
      "state": {
       "layout": "IPY_MODEL_1a0bfdc570db4fa18e08d2bb467309b2",
       "step": 1,
       "style": "IPY_MODEL_2481a77d117345e3a7920289867f418c",
       "value": 100000
      }
     },
     "63dbd7c7ae9c485ab382387520740eb6": {
      "model_module": "@jupyter-widgets/controls",
      "model_module_version": "1.0.0",
      "model_name": "ButtonStyleModel",
      "state": {}
     },
     "63e673a39a564db38d8f8f826c07e64e": {
      "model_module": "@jupyter-widgets/base",
      "model_module_version": "1.0.0",
      "model_name": "LayoutModel",
      "state": {}
     },
     "641d9ed0a25340c1bdac64120092a5ec": {
      "model_module": "@jupyter-widgets/controls",
      "model_module_version": "1.0.0",
      "model_name": "LabelModel",
      "state": {
       "layout": "IPY_MODEL_9d319927c5794ab9b8bf02a111c59f99",
       "style": "IPY_MODEL_2ff7886d4be84e1faf4b82d4e1d0e447",
       "value": "Current Error:"
      }
     },
     "6474e25e868a4184820caeefe823b4d8": {
      "model_module": "@jupyter-widgets/base",
      "model_module_version": "1.0.0",
      "model_name": "LayoutModel",
      "state": {}
     },
     "65e3e4060c524a0098bccbd1e82b18df": {
      "model_module": "@jupyter-widgets/base",
      "model_module_version": "1.0.0",
      "model_name": "LayoutModel",
      "state": {}
     },
     "67e5d615918645c2a5e4b0f89f74ba19": {
      "model_module": "@jupyter-widgets/controls",
      "model_module_version": "1.0.0",
      "model_name": "DescriptionStyleModel",
      "state": {
       "description_width": ""
      }
     },
     "6a3b83983cfe4841a06f3b8bfffe6fe9": {
      "model_module": "@jupyter-widgets/base",
      "model_module_version": "1.0.0",
      "model_name": "LayoutModel",
      "state": {}
     },
     "6bba780d877d4e70946eab5441e70d62": {
      "model_module": "@jupyter-widgets/controls",
      "model_module_version": "1.0.0",
      "model_name": "DescriptionStyleModel",
      "state": {
       "description_width": ""
      }
     },
     "6f173dc50d974686ad7615f87f4e394b": {
      "model_module": "@jupyter-widgets/base",
      "model_module_version": "1.0.0",
      "model_name": "LayoutModel",
      "state": {}
     },
     "6fc3c79bd1494ddbab7887cced17bafd": {
      "model_module": "@jupyter-widgets/controls",
      "model_module_version": "1.0.0",
      "model_name": "DescriptionStyleModel",
      "state": {
       "description_width": ""
      }
     },
     "70c187f3875b4cdfa8c4daab544003a8": {
      "model_module": "@jupyter-widgets/base",
      "model_module_version": "1.0.0",
      "model_name": "LayoutModel",
      "state": {}
     },
     "70e66c42bf1547b0912121e7a6f0271b": {
      "model_module": "@jupyter-widgets/base",
      "model_module_version": "1.0.0",
      "model_name": "LayoutModel",
      "state": {}
     },
     "7212e4b6546846d1ac288e41332b670a": {
      "model_module": "@jupyter-widgets/base",
      "model_module_version": "1.0.0",
      "model_name": "LayoutModel",
      "state": {}
     },
     "73fe339178ba4caa8d85a04127ed859e": {
      "model_module": "@jupyter-widgets/base",
      "model_module_version": "1.0.0",
      "model_name": "LayoutModel",
      "state": {}
     },
     "74672d79bcff474c8115922a63e60e25": {
      "model_module": "@jupyter-widgets/controls",
      "model_module_version": "1.0.0",
      "model_name": "TextModel",
      "state": {
       "layout": "IPY_MODEL_10f80eae059f41a5a9ab2c1560358eea",
       "style": "IPY_MODEL_5bd060ab7487440d8c9dabd918991cac",
       "value": "4,4"
      }
     },
     "7633e9bb540a404ca7076959cc249606": {
      "model_module": "@jupyter-widgets/base",
      "model_module_version": "1.0.0",
      "model_name": "LayoutModel",
      "state": {}
     },
     "788a4c0e387c418ab12818ac80a39d6b": {
      "model_module": "@jupyter-widgets/controls",
      "model_module_version": "1.0.0",
      "model_name": "LabelModel",
      "state": {
       "layout": "IPY_MODEL_819b1eaf73104af7bc88be515fb1591d",
       "style": "IPY_MODEL_a585ce354f8c428cb2e554fd89a43dac",
       "value": "Number of Iterations"
      }
     },
     "7b40a1aae6f8482ba34e24f79dc2b785": {
      "model_module": "@jupyter-widgets/base",
      "model_module_version": "1.0.0",
      "model_name": "LayoutModel",
      "state": {}
     },
     "7cdc9077db0b485aaf5317ce08b66033": {
      "model_module": "@jupyter-widgets/controls",
      "model_module_version": "1.0.0",
      "model_name": "DescriptionStyleModel",
      "state": {
       "description_width": ""
      }
     },
     "7dbe9a0c0ae443b6b53a68875ff09f5c": {
      "model_module": "@jupyter-widgets/controls",
      "model_module_version": "1.0.0",
      "model_name": "LabelModel",
      "state": {
       "layout": "IPY_MODEL_1d0c26f204294ecdbb2454adb113be9b",
       "style": "IPY_MODEL_91d7d7c1cd2c430bafd5c72309ad26c7",
       "value": "Current Error:"
      }
     },
     "8005fade9ae740d0825e5696aab2dbad": {
      "model_module": "@jupyter-widgets/controls",
      "model_module_version": "1.0.0",
      "model_name": "ButtonModel",
      "state": {
       "description": "Run Algorithm",
       "layout": "IPY_MODEL_c87f4d518afd44a299d8c22e4ef1f6d8",
       "style": "IPY_MODEL_feaee74399e945f383b5509e4b382e7a"
      }
     },
     "8027cb51a1f14f419dc45c8f205a90fc": {
      "model_module": "@jupyter-widgets/controls",
      "model_module_version": "1.0.0",
      "model_name": "DescriptionStyleModel",
      "state": {
       "description_width": ""
      }
     },
     "80abcbecd1ed4749a567c6b19ed78766": {
      "model_module": "@jupyter-widgets/controls",
      "model_module_version": "1.0.0",
      "model_name": "ButtonStyleModel",
      "state": {}
     },
     "819b1eaf73104af7bc88be515fb1591d": {
      "model_module": "@jupyter-widgets/base",
      "model_module_version": "1.0.0",
      "model_name": "LayoutModel",
      "state": {}
     },
     "8603954cc9b042b69aa78264e2467aaa": {
      "model_module": "@jupyter-widgets/controls",
      "model_module_version": "1.0.0",
      "model_name": "DescriptionStyleModel",
      "state": {
       "description_width": ""
      }
     },
     "87a4856f41ab45c0bdabcacc9d4fd404": {
      "model_module": "@jupyter-widgets/base",
      "model_module_version": "1.0.0",
      "model_name": "LayoutModel",
      "state": {}
     },
     "8d1054a99d7147a9be64cba4929f8d15": {
      "model_module": "@jupyter-widgets/controls",
      "model_module_version": "1.0.0",
      "model_name": "TextModel",
      "state": {
       "layout": "IPY_MODEL_39d3e9870cee46b7b855fa1f34aba4fd",
       "style": "IPY_MODEL_17d146c7ef7a44e1a6a3ef9d477b25f5",
       "value": "0.00204288302998"
      }
     },
     "8e701802a428419c85aeb0c5f66af933": {
      "model_module": "@jupyter-widgets/controls",
      "model_module_version": "1.0.0",
      "model_name": "HBoxModel",
      "state": {
       "children": [
        "IPY_MODEL_641d9ed0a25340c1bdac64120092a5ec",
        "IPY_MODEL_9e15f9cce6bd4e969f241cd9c3a507ef"
       ],
       "layout": "IPY_MODEL_5cbc7c90a59b4f3282ca7dec09dd3adb"
      }
     },
     "9034747cea084eeeb584f0aca350e32d": {
      "model_module": "@jupyter-widgets/base",
      "model_module_version": "1.0.0",
      "model_name": "LayoutModel",
      "state": {}
     },
     "90ecce31ea234fbe986869ca483b31ba": {
      "model_module": "@jupyter-widgets/controls",
      "model_module_version": "1.0.0",
      "model_name": "LabelModel",
      "state": {
       "layout": "IPY_MODEL_08f4178da79c46188ee13b89e4909467",
       "style": "IPY_MODEL_aec2e1a7d5d84d2aae6950ea62117c8e",
       "value": "Hidden Layer Sizes:"
      }
     },
     "918532e5e8bc43aa93408ded689502c9": {
      "model_module": "@jupyter-widgets/controls",
      "model_module_version": "1.0.0",
      "model_name": "LabelModel",
      "state": {
       "layout": "IPY_MODEL_a4581c48ba434e4a98eb261d21b33aea",
       "style": "IPY_MODEL_eacaac7cf330491584789396591b6713",
       "value": "Hidden Layer Sizes:"
      }
     },
     "91d7d7c1cd2c430bafd5c72309ad26c7": {
      "model_module": "@jupyter-widgets/controls",
      "model_module_version": "1.0.0",
      "model_name": "DescriptionStyleModel",
      "state": {
       "description_width": ""
      }
     },
     "9358333907894693bcba9b11fa1a041c": {
      "model_module": "@jupyter-widgets/controls",
      "model_module_version": "1.0.0",
      "model_name": "DescriptionStyleModel",
      "state": {
       "description_width": ""
      }
     },
     "979f423cf71942939737e7e97536734c": {
      "model_module": "@jupyter-widgets/base",
      "model_module_version": "1.0.0",
      "model_name": "LayoutModel",
      "state": {}
     },
     "98d65a8989b1442dbfb8d89cc6381b75": {
      "model_module": "@jupyter-widgets/base",
      "model_module_version": "1.0.0",
      "model_name": "LayoutModel",
      "state": {}
     },
     "98ed12041a914894b64ff9619c7ccc07": {
      "model_module": "@jupyter-widgets/controls",
      "model_module_version": "1.0.0",
      "model_name": "ButtonModel",
      "state": {
       "description": "Run Algorithm",
       "layout": "IPY_MODEL_f3fea5d14989401299a3560e6c0c5f0e",
       "style": "IPY_MODEL_45bbe8521e4b4b449841498c25957aae"
      }
     },
     "991ef58e3a1c45e7bccca6a0b3e29830": {
      "model_module": "@jupyter-widgets/base",
      "model_module_version": "1.0.0",
      "model_name": "LayoutModel",
      "state": {}
     },
     "993f99f39d784763b583551666f7a8ae": {
      "model_module": "@jupyter-widgets/base",
      "model_module_version": "1.0.0",
      "model_name": "LayoutModel",
      "state": {}
     },
     "9962ee51123e4fa59184bb46607abbd5": {
      "model_module": "@jupyter-widgets/controls",
      "model_module_version": "1.0.0",
      "model_name": "HBoxModel",
      "state": {
       "children": [
        "IPY_MODEL_7dbe9a0c0ae443b6b53a68875ff09f5c",
        "IPY_MODEL_019731e079984469ac040a95a8bb3a1b"
       ],
       "layout": "IPY_MODEL_73fe339178ba4caa8d85a04127ed859e"
      }
     },
     "9ac0a4a2185548808ca5469a1b8de0e9": {
      "model_module": "@jupyter-widgets/controls",
      "model_module_version": "1.0.0",
      "model_name": "ButtonModel",
      "state": {
       "description": "Run Algorithm",
       "layout": "IPY_MODEL_ffbcd05341e547c2b9b96431896998c5",
       "style": "IPY_MODEL_5c73f6dbd5b34a5285c20b16d1367a3c"
      }
     },
     "9b9796bf0d794497a3a0d0fe0125b15d": {
      "model_module": "@jupyter-widgets/base",
      "model_module_version": "1.0.0",
      "model_name": "LayoutModel",
      "state": {}
     },
     "9cba5718903641ca9fb91a10dfe2537d": {
      "model_module": "@jupyter-widgets/controls",
      "model_module_version": "1.0.0",
      "model_name": "TextModel",
      "state": {
       "layout": "IPY_MODEL_31c793bea0f34570b39a2c5683821b9b",
       "style": "IPY_MODEL_50911239d90a43028a280089c9f524ce",
       "value": "4,4"
      }
     },
     "9d319927c5794ab9b8bf02a111c59f99": {
      "model_module": "@jupyter-widgets/base",
      "model_module_version": "1.0.0",
      "model_name": "LayoutModel",
      "state": {}
     },
     "9d3c296afc8845ed8a41651adda6a08d": {
      "model_module": "@jupyter-widgets/controls",
      "model_module_version": "1.0.0",
      "model_name": "HBoxModel",
      "state": {
       "children": [
        "IPY_MODEL_602f329b4dd74255957dc95977fc4dca",
        "IPY_MODEL_1e2f87b8330547f5bdebde3c09efb450"
       ],
       "layout": "IPY_MODEL_28769950ad0b49f9b587b2f78224254b"
      }
     },
     "9dc356422c454dd288f028e3ec1f7372": {
      "model_module": "@jupyter-widgets/base",
      "model_module_version": "1.0.0",
      "model_name": "LayoutModel",
      "state": {}
     },
     "9e15f9cce6bd4e969f241cd9c3a507ef": {
      "model_module": "@jupyter-widgets/controls",
      "model_module_version": "1.0.0",
      "model_name": "TextModel",
      "state": {
       "layout": "IPY_MODEL_f0392f02615440d6813d6c95143dbb4d",
       "style": "IPY_MODEL_67e5d615918645c2a5e4b0f89f74ba19",
       "value": "0.00653261092998"
      }
     },
     "a1150b84a748426e9720c828b519a150": {
      "model_module": "@jupyter-widgets/controls",
      "model_module_version": "1.0.0",
      "model_name": "HBoxModel",
      "state": {
       "children": [
        "IPY_MODEL_918532e5e8bc43aa93408ded689502c9",
        "IPY_MODEL_9cba5718903641ca9fb91a10dfe2537d"
       ],
       "layout": "IPY_MODEL_19ced27a633941d78769830c6d44925e"
      }
     },
     "a14e08d289e146f3b9e35fa34e530f8b": {
      "model_module": "@jupyter-widgets/controls",
      "model_module_version": "1.0.0",
      "model_name": "ProgressStyleModel",
      "state": {
       "description_width": ""
      }
     },
     "a4581c48ba434e4a98eb261d21b33aea": {
      "model_module": "@jupyter-widgets/base",
      "model_module_version": "1.0.0",
      "model_name": "LayoutModel",
      "state": {}
     },
     "a502511698464df995bd63b64a63b24f": {
      "model_module": "@jupyter-widgets/controls",
      "model_module_version": "1.0.0",
      "model_name": "VBoxModel",
      "state": {
       "children": [
        "IPY_MODEL_1d4b9a4130714c348cdf9885e2bfdcd1",
        "IPY_MODEL_c599b1f6fe6e425a989f415581adc995",
        "IPY_MODEL_8e701802a428419c85aeb0c5f66af933",
        "IPY_MODEL_16ed7420d07e42adb6543958fbac082f",
        "IPY_MODEL_45edece35f4c4ce19f68b81192996a3e"
       ],
       "layout": "IPY_MODEL_bca78e17412048c1b3c02c43a0ab55e4"
      }
     },
     "a585ce354f8c428cb2e554fd89a43dac": {
      "model_module": "@jupyter-widgets/controls",
      "model_module_version": "1.0.0",
      "model_name": "DescriptionStyleModel",
      "state": {
       "description_width": ""
      }
     },
     "a5f6afc1853e458bbac2974093e6f968": {
      "model_module": "@jupyter-widgets/controls",
      "model_module_version": "1.0.0",
      "model_name": "DescriptionStyleModel",
      "state": {
       "description_width": ""
      }
     },
     "a628ea855549445eb0669d80f736226a": {
      "model_module": "@jupyter-widgets/controls",
      "model_module_version": "1.0.0",
      "model_name": "LabelModel",
      "state": {
       "layout": "IPY_MODEL_65e3e4060c524a0098bccbd1e82b18df",
       "style": "IPY_MODEL_231d6c8a010e480e8c548426ffad1b68",
       "value": "Number of Iterations"
      }
     },
     "a6cd6cbd68b442b59154476f041d7ec5": {
      "model_module": "@jupyter-widgets/base",
      "model_module_version": "1.0.0",
      "model_name": "LayoutModel",
      "state": {}
     },
     "a81552601fab408d9d9180c787ed1916": {
      "model_module": "@jupyter-widgets/base",
      "model_module_version": "1.0.0",
      "model_name": "LayoutModel",
      "state": {}
     },
     "ab1cc32b68774c60a42f9bd21c4c771c": {
      "model_module": "@jupyter-widgets/controls",
      "model_module_version": "1.0.0",
      "model_name": "DescriptionStyleModel",
      "state": {
       "description_width": ""
      }
     },
     "ab733a878f3044e294d5774de4a31d17": {
      "model_module": "@jupyter-widgets/controls",
      "model_module_version": "1.0.0",
      "model_name": "LabelModel",
      "state": {
       "layout": "IPY_MODEL_c53764431f6c4f278d8182da3a838856",
       "style": "IPY_MODEL_ab1cc32b68774c60a42f9bd21c4c771c",
       "value": "Current Error:"
      }
     },
     "ac580c75e4f548db9759d6d3a5f96103": {
      "model_module": "@jupyter-widgets/base",
      "model_module_version": "1.0.0",
      "model_name": "LayoutModel",
      "state": {}
     },
     "ac8d649481fd49baaf7797e841dd4657": {
      "model_module": "@jupyter-widgets/base",
      "model_module_version": "1.0.0",
      "model_name": "LayoutModel",
      "state": {}
     },
     "ad85071c0a26428bb9388fa432d590b3": {
      "model_module": "@jupyter-widgets/controls",
      "model_module_version": "1.0.0",
      "model_name": "TextModel",
      "state": {
       "layout": "IPY_MODEL_6474e25e868a4184820caeefe823b4d8",
       "style": "IPY_MODEL_5043db8d2e104faa8dafaa9f977d8326",
       "value": "4,4"
      }
     },
     "adba9610a0a54352989bf0c14e348491": {
      "model_module": "@jupyter-widgets/base",
      "model_module_version": "1.0.0",
      "model_name": "LayoutModel",
      "state": {}
     },
     "ae9e7260158c4adc9bc95589794f75c6": {
      "model_module": "@jupyter-widgets/base",
      "model_module_version": "1.0.0",
      "model_name": "LayoutModel",
      "state": {}
     },
     "aec2e1a7d5d84d2aae6950ea62117c8e": {
      "model_module": "@jupyter-widgets/controls",
      "model_module_version": "1.0.0",
      "model_name": "DescriptionStyleModel",
      "state": {
       "description_width": ""
      }
     },
     "af119765f0ad46dfbc593546fa638d9a": {
      "model_module": "@jupyter-widgets/base",
      "model_module_version": "1.0.0",
      "model_name": "LayoutModel",
      "state": {}
     },
     "afa4bba82af443be8763e218d82633e6": {
      "model_module": "@jupyter-widgets/controls",
      "model_module_version": "1.0.0",
      "model_name": "HBoxModel",
      "state": {
       "children": [
        "IPY_MODEL_90ecce31ea234fbe986869ca483b31ba",
        "IPY_MODEL_ad85071c0a26428bb9388fa432d590b3"
       ],
       "layout": "IPY_MODEL_dc75a597a8d040c9bc63af590378e758"
      }
     },
     "b13b336e620845219bdf152c34969077": {
      "model_module": "@jupyter-widgets/controls",
      "model_module_version": "1.0.0",
      "model_name": "VBoxModel",
      "state": {
       "children": [
        "IPY_MODEL_1d4b9a4130714c348cdf9885e2bfdcd1",
        "IPY_MODEL_c599b1f6fe6e425a989f415581adc995",
        "IPY_MODEL_8e701802a428419c85aeb0c5f66af933",
        "IPY_MODEL_16ed7420d07e42adb6543958fbac082f",
        "IPY_MODEL_45edece35f4c4ce19f68b81192996a3e"
       ],
       "layout": "IPY_MODEL_293ecefd4a4e49f9b98786eb50cf206f"
      }
     },
     "b190cba1ca1146c2918baabc094967b4": {
      "model_module": "@jupyter-widgets/controls",
      "model_module_version": "1.0.0",
      "model_name": "VBoxModel",
      "state": {
       "children": [
        "IPY_MODEL_9d3c296afc8845ed8a41651adda6a08d",
        "IPY_MODEL_4ffa7c14ff494fbe9ead27f3fbf765eb",
        "IPY_MODEL_bc0b8a7739bb4049816da2931958728c",
        "IPY_MODEL_56424894c39c46b9921ca4e7cf81f218",
        "IPY_MODEL_9ac0a4a2185548808ca5469a1b8de0e9"
       ],
       "layout": "IPY_MODEL_eb6c58b7c7d449ceaa52006af67d1a1d"
      }
     },
     "b398fce446994921a38d5e0065eabeeb": {
      "model_module": "@jupyter-widgets/controls",
      "model_module_version": "1.0.0",
      "model_name": "VBoxModel",
      "state": {
       "children": [
        "IPY_MODEL_1d4b9a4130714c348cdf9885e2bfdcd1",
        "IPY_MODEL_c599b1f6fe6e425a989f415581adc995",
        "IPY_MODEL_8e701802a428419c85aeb0c5f66af933",
        "IPY_MODEL_16ed7420d07e42adb6543958fbac082f",
        "IPY_MODEL_45edece35f4c4ce19f68b81192996a3e"
       ],
       "layout": "IPY_MODEL_87a4856f41ab45c0bdabcacc9d4fd404"
      }
     },
     "b3be2437f3e84579b22e9ae7a1a434d6": {
      "model_module": "@jupyter-widgets/controls",
      "model_module_version": "1.0.0",
      "model_name": "IntProgressModel",
      "state": {
       "description": "Iteration",
       "layout": "IPY_MODEL_ffcf6a430c6d42e7a88027156a69265c",
       "max": 100000,
       "style": "IPY_MODEL_4bec5386ad2c4d82ba19941eccddd5bc",
       "value": 99999
      }
     },
     "b58f11e4e3664773916ae320a8ac22b0": {
      "model_module": "@jupyter-widgets/controls",
      "model_module_version": "1.0.0",
      "model_name": "TextModel",
      "state": {
       "layout": "IPY_MODEL_70e66c42bf1547b0912121e7a6f0271b",
       "style": "IPY_MODEL_0aab1883d83b472786ee0b474b5ab235",
       "value": "0.00141790183951"
      }
     },
     "bc0b8a7739bb4049816da2931958728c": {
      "model_module": "@jupyter-widgets/controls",
      "model_module_version": "1.0.0",
      "model_name": "HBoxModel",
      "state": {
       "children": [
        "IPY_MODEL_40ed8c01546940e6b480bd429f5227e5",
        "IPY_MODEL_8d1054a99d7147a9be64cba4929f8d15"
       ],
       "layout": "IPY_MODEL_ac8d649481fd49baaf7797e841dd4657"
      }
     },
     "bc3ae859ed13440580611ef51d9bded4": {
      "model_module": "@jupyter-widgets/controls",
      "model_module_version": "1.0.0",
      "model_name": "IntTextModel",
      "state": {
       "layout": "IPY_MODEL_e95d0a1f76724f85b53b32b558fd5c42",
       "step": 1,
       "style": "IPY_MODEL_7cdc9077db0b485aaf5317ce08b66033",
       "value": 100000
      }
     },
     "bca78e17412048c1b3c02c43a0ab55e4": {
      "model_module": "@jupyter-widgets/base",
      "model_module_version": "1.0.0",
      "model_name": "LayoutModel",
      "state": {}
     },
     "c34b4a1657614960a25adf8b5c1095c6": {
      "model_module": "@jupyter-widgets/controls",
      "model_module_version": "1.0.0",
      "model_name": "HBoxModel",
      "state": {
       "children": [
        "IPY_MODEL_d34990293dd44a18afb7d56d82ef757e",
        "IPY_MODEL_74672d79bcff474c8115922a63e60e25"
       ],
       "layout": "IPY_MODEL_7b40a1aae6f8482ba34e24f79dc2b785"
      }
     },
     "c53764431f6c4f278d8182da3a838856": {
      "model_module": "@jupyter-widgets/base",
      "model_module_version": "1.0.0",
      "model_name": "LayoutModel",
      "state": {}
     },
     "c561cfcb53bf429c96bdfaa7ea23ffbf": {
      "model_module": "@jupyter-widgets/controls",
      "model_module_version": "1.0.0",
      "model_name": "VBoxModel",
      "state": {
       "children": [
        "IPY_MODEL_1d4b9a4130714c348cdf9885e2bfdcd1",
        "IPY_MODEL_c599b1f6fe6e425a989f415581adc995",
        "IPY_MODEL_8e701802a428419c85aeb0c5f66af933",
        "IPY_MODEL_16ed7420d07e42adb6543958fbac082f",
        "IPY_MODEL_45edece35f4c4ce19f68b81192996a3e"
       ],
       "layout": "IPY_MODEL_cd8035fb469b460a953bd3ee086fca6c"
      }
     },
     "c599b1f6fe6e425a989f415581adc995": {
      "model_module": "@jupyter-widgets/controls",
      "model_module_version": "1.0.0",
      "model_name": "HBoxModel",
      "state": {
       "children": [
        "IPY_MODEL_788a4c0e387c418ab12818ac80a39d6b",
        "IPY_MODEL_f86e5b184aad434db58d23800dfcb6a0"
       ],
       "layout": "IPY_MODEL_63e673a39a564db38d8f8f826c07e64e"
      }
     },
     "c59cf79dce664bd193352b927f52442c": {
      "model_module": "@jupyter-widgets/controls",
      "model_module_version": "1.0.0",
      "model_name": "DescriptionStyleModel",
      "state": {
       "description_width": ""
      }
     },
     "c61cd645a28a4191a8bc972eba573fe9": {
      "model_module": "@jupyter-widgets/base",
      "model_module_version": "1.0.0",
      "model_name": "LayoutModel",
      "state": {}
     },
     "c6c6d96d72ab476cbd3eee0162633e33": {
      "model_module": "@jupyter-widgets/base",
      "model_module_version": "1.0.0",
      "model_name": "LayoutModel",
      "state": {}
     },
     "c82739e6dea344aaba0e47d494631b06": {
      "model_module": "@jupyter-widgets/controls",
      "model_module_version": "1.0.0",
      "model_name": "LabelModel",
      "state": {
       "layout": "IPY_MODEL_29e4d3b6ca3f4074a8bc3c548f565b4b",
       "style": "IPY_MODEL_15d5651382fe4211a89348f3900da4b7",
       "value": "Number of Iterations"
      }
     },
     "c87f4d518afd44a299d8c22e4ef1f6d8": {
      "model_module": "@jupyter-widgets/base",
      "model_module_version": "1.0.0",
      "model_name": "LayoutModel",
      "state": {}
     },
     "c882d113b87e47149ed6c6f82b820b58": {
      "model_module": "@jupyter-widgets/base",
      "model_module_version": "1.0.0",
      "model_name": "LayoutModel",
      "state": {}
     },
     "cd8035fb469b460a953bd3ee086fca6c": {
      "model_module": "@jupyter-widgets/base",
      "model_module_version": "1.0.0",
      "model_name": "LayoutModel",
      "state": {}
     },
     "d1abec948b58412fa465ae063c011b0b": {
      "model_module": "@jupyter-widgets/controls",
      "model_module_version": "1.0.0",
      "model_name": "DescriptionStyleModel",
      "state": {
       "description_width": ""
      }
     },
     "d2beab974a6d4bf4836a2e8f6316d4b1": {
      "model_module": "@jupyter-widgets/controls",
      "model_module_version": "1.0.0",
      "model_name": "VBoxModel",
      "state": {
       "children": [
        "IPY_MODEL_4077896f65b7493c9d3af6e8b19bfdc0",
        "IPY_MODEL_176252bbb80d43ae9f58b20d8e183036",
        "IPY_MODEL_ed478845e0b04379ad985b0591da5219",
        "IPY_MODEL_5ee4865eb551432cb993185269835faa"
       ],
       "layout": "IPY_MODEL_991ef58e3a1c45e7bccca6a0b3e29830"
      }
     },
     "d34990293dd44a18afb7d56d82ef757e": {
      "model_module": "@jupyter-widgets/controls",
      "model_module_version": "1.0.0",
      "model_name": "LabelModel",
      "state": {
       "layout": "IPY_MODEL_2fd329e88532448b85d08f61ebc58edc",
       "style": "IPY_MODEL_1a032225600b48cbad55368e647963a0",
       "value": "Hidden Layer Sizes:"
      }
     },
     "dbb12c97360e4ff6bfa3ce9bd97e7e2e": {
      "model_module": "@jupyter-widgets/base",
      "model_module_version": "1.0.0",
      "model_name": "LayoutModel",
      "state": {}
     },
     "dc6c070cad8e4b04827ebfd073d9b260": {
      "model_module": "@jupyter-widgets/controls",
      "model_module_version": "1.0.0",
      "model_name": "TextModel",
      "state": {
       "layout": "IPY_MODEL_49348849542947f79c3a9f72f952add6",
       "style": "IPY_MODEL_9358333907894693bcba9b11fa1a041c",
       "value": "4,4"
      }
     },
     "dc75a597a8d040c9bc63af590378e758": {
      "model_module": "@jupyter-widgets/base",
      "model_module_version": "1.0.0",
      "model_name": "LayoutModel",
      "state": {}
     },
     "de1b345324df41d1a6aa0f6a647dd95b": {
      "model_module": "@jupyter-widgets/controls",
      "model_module_version": "1.0.0",
      "model_name": "VBoxModel",
      "state": {
       "children": [
        "IPY_MODEL_afa4bba82af443be8763e218d82633e6",
        "IPY_MODEL_18b7a9b5117e4f1eb353998ae5083c0c",
        "IPY_MODEL_9962ee51123e4fa59184bb46607abbd5",
        "IPY_MODEL_14eac655559c4bd2a59f33e598e29975"
       ],
       "layout": "IPY_MODEL_e98ee08da89d430ea05e8c63fe2d5486"
      }
     },
     "dfffe92ee005432396ee2b6188ce403e": {
      "model_module": "@jupyter-widgets/controls",
      "model_module_version": "1.0.0",
      "model_name": "DescriptionStyleModel",
      "state": {
       "description_width": ""
      }
     },
     "e2484e7a207440df980e9124cdd1a8a9": {
      "model_module": "@jupyter-widgets/controls",
      "model_module_version": "1.0.0",
      "model_name": "TextModel",
      "state": {
       "layout": "IPY_MODEL_3269daff13a946008bc7114f1e16a814",
       "style": "IPY_MODEL_e561d759b8634c67a00044d5a2f6cea2"
      }
     },
     "e2730f0fd0d64a0f8163b1f607c76891": {
      "model_module": "@jupyter-widgets/controls",
      "model_module_version": "1.0.0",
      "model_name": "VBoxModel",
      "state": {
       "children": [
        "IPY_MODEL_1d4b9a4130714c348cdf9885e2bfdcd1",
        "IPY_MODEL_c599b1f6fe6e425a989f415581adc995",
        "IPY_MODEL_8e701802a428419c85aeb0c5f66af933",
        "IPY_MODEL_16ed7420d07e42adb6543958fbac082f",
        "IPY_MODEL_45edece35f4c4ce19f68b81192996a3e"
       ],
       "layout": "IPY_MODEL_c6c6d96d72ab476cbd3eee0162633e33"
      }
     },
     "e50f5613e5f649f9a32c586902a0fb86": {
      "model_module": "@jupyter-widgets/controls",
      "model_module_version": "1.0.0",
      "model_name": "IntTextModel",
      "state": {
       "layout": "IPY_MODEL_fbc1b3b154cf4a05920d9bc3c6102f9c",
       "step": 1,
       "style": "IPY_MODEL_d1abec948b58412fa465ae063c011b0b",
       "value": 100000
      }
     },
     "e561d759b8634c67a00044d5a2f6cea2": {
      "model_module": "@jupyter-widgets/controls",
      "model_module_version": "1.0.0",
      "model_name": "DescriptionStyleModel",
      "state": {
       "description_width": ""
      }
     },
     "e57af48e4cfd4a52afd33208ae0f36f0": {
      "model_module": "@jupyter-widgets/controls",
      "model_module_version": "1.0.0",
      "model_name": "DescriptionStyleModel",
      "state": {
       "description_width": ""
      }
     },
     "e5ad90659c1949fc9eb7ac983fd061a3": {
      "model_module": "@jupyter-widgets/controls",
      "model_module_version": "1.0.0",
      "model_name": "DescriptionStyleModel",
      "state": {
       "description_width": ""
      }
     },
     "e831ccd7c1ea4ec48d7b52fd29165ffb": {
      "model_module": "@jupyter-widgets/controls",
      "model_module_version": "1.0.0",
      "model_name": "HBoxModel",
      "state": {
       "children": [
        "IPY_MODEL_c82739e6dea344aaba0e47d494631b06",
        "IPY_MODEL_0e5843b817074beb805ef10d22b38bd5"
       ],
       "layout": "IPY_MODEL_9dc356422c454dd288f028e3ec1f7372"
      }
     },
     "e95d0a1f76724f85b53b32b558fd5c42": {
      "model_module": "@jupyter-widgets/base",
      "model_module_version": "1.0.0",
      "model_name": "LayoutModel",
      "state": {}
     },
     "e98ee08da89d430ea05e8c63fe2d5486": {
      "model_module": "@jupyter-widgets/base",
      "model_module_version": "1.0.0",
      "model_name": "LayoutModel",
      "state": {}
     },
     "eacaac7cf330491584789396591b6713": {
      "model_module": "@jupyter-widgets/controls",
      "model_module_version": "1.0.0",
      "model_name": "DescriptionStyleModel",
      "state": {
       "description_width": ""
      }
     },
     "eaf7fa3b9c6a4284afa7c5eaaa087142": {
      "model_module": "@jupyter-widgets/controls",
      "model_module_version": "1.0.0",
      "model_name": "HBoxModel",
      "state": {
       "children": [
        "IPY_MODEL_392b5449b91146fc8d7fd433d7b85041",
        "IPY_MODEL_e50f5613e5f649f9a32c586902a0fb86"
       ],
       "layout": "IPY_MODEL_6a3b83983cfe4841a06f3b8bfffe6fe9"
      }
     },
     "eb3da660791f46e584a0ba6ddec69f70": {
      "model_module": "@jupyter-widgets/controls",
      "model_module_version": "1.0.0",
      "model_name": "VBoxModel",
      "state": {
       "children": [
        "IPY_MODEL_a1150b84a748426e9720c828b519a150",
        "IPY_MODEL_eaf7fa3b9c6a4284afa7c5eaaa087142",
        "IPY_MODEL_02bdeba89a1a48e88ae75fed346302af",
        "IPY_MODEL_b3be2437f3e84579b22e9ae7a1a434d6",
        "IPY_MODEL_98ed12041a914894b64ff9619c7ccc07"
       ],
       "layout": "IPY_MODEL_7212e4b6546846d1ac288e41332b670a"
      }
     },
     "eb55f06fd44d4153a2ed083f4df800ad": {
      "model_module": "@jupyter-widgets/controls",
      "model_module_version": "1.0.0",
      "model_name": "LabelModel",
      "state": {
       "layout": "IPY_MODEL_2d9e5a1a4a64447a8bc2a4f3a9beeb6f",
       "style": "IPY_MODEL_f3feb77cf57d4e308c644199fa07e4b0",
       "value": "Current Error:"
      }
     },
     "eb6c58b7c7d449ceaa52006af67d1a1d": {
      "model_module": "@jupyter-widgets/base",
      "model_module_version": "1.0.0",
      "model_name": "LayoutModel",
      "state": {}
     },
     "ed478845e0b04379ad985b0591da5219": {
      "model_module": "@jupyter-widgets/controls",
      "model_module_version": "1.0.0",
      "model_name": "HBoxModel",
      "state": {
       "children": [
        "IPY_MODEL_eb55f06fd44d4153a2ed083f4df800ad",
        "IPY_MODEL_e2484e7a207440df980e9124cdd1a8a9"
       ],
       "layout": "IPY_MODEL_3a76fc2e6a604d73b3f1dfd2d8cf5086"
      }
     },
     "ee778b76622c435c94e4102933a131d0": {
      "model_module": "@jupyter-widgets/controls",
      "model_module_version": "1.0.0",
      "model_name": "LabelModel",
      "state": {
       "layout": "IPY_MODEL_5bae0fc71cba4f92adf33b8a4fa270b6",
       "style": "IPY_MODEL_c59cf79dce664bd193352b927f52442c",
       "value": "Hidden Layer Sizes:"
      }
     },
     "f0392f02615440d6813d6c95143dbb4d": {
      "model_module": "@jupyter-widgets/base",
      "model_module_version": "1.0.0",
      "model_name": "LayoutModel",
      "state": {}
     },
     "f04fc9e194ab44a7a81b635608df7e08": {
      "model_module": "@jupyter-widgets/controls",
      "model_module_version": "1.0.0",
      "model_name": "IntTextModel",
      "state": {
       "layout": "IPY_MODEL_39fce1d397df4e8d8269f8391141b645",
       "step": 1,
       "style": "IPY_MODEL_56446b72e509428b8aed4751c83b0e87",
       "value": 100000
      }
     },
     "f1ff7ac5ff3640e69912054fc5c935b6": {
      "model_module": "@jupyter-widgets/controls",
      "model_module_version": "1.0.0",
      "model_name": "VBoxModel",
      "state": {
       "children": [
        "IPY_MODEL_afa4bba82af443be8763e218d82633e6",
        "IPY_MODEL_18b7a9b5117e4f1eb353998ae5083c0c",
        "IPY_MODEL_9962ee51123e4fa59184bb46607abbd5",
        "IPY_MODEL_14eac655559c4bd2a59f33e598e29975"
       ],
       "layout": "IPY_MODEL_17971118ee1e41a98a888d8914cae92e"
      }
     },
     "f3fea5d14989401299a3560e6c0c5f0e": {
      "model_module": "@jupyter-widgets/base",
      "model_module_version": "1.0.0",
      "model_name": "LayoutModel",
      "state": {}
     },
     "f3feb77cf57d4e308c644199fa07e4b0": {
      "model_module": "@jupyter-widgets/controls",
      "model_module_version": "1.0.0",
      "model_name": "DescriptionStyleModel",
      "state": {
       "description_width": ""
      }
     },
     "f86e5b184aad434db58d23800dfcb6a0": {
      "model_module": "@jupyter-widgets/controls",
      "model_module_version": "1.0.0",
      "model_name": "IntTextModel",
      "state": {
       "layout": "IPY_MODEL_7633e9bb540a404ca7076959cc249606",
       "step": 1,
       "style": "IPY_MODEL_8603954cc9b042b69aa78264e2467aaa",
       "value": 10000
      }
     },
     "fbc1b3b154cf4a05920d9bc3c6102f9c": {
      "model_module": "@jupyter-widgets/base",
      "model_module_version": "1.0.0",
      "model_name": "LayoutModel",
      "state": {}
     },
     "fde9027cf5e94c4b866010f52a5d1923": {
      "model_module": "@jupyter-widgets/controls",
      "model_module_version": "1.0.0",
      "model_name": "LabelModel",
      "state": {
       "layout": "IPY_MODEL_a6cd6cbd68b442b59154476f041d7ec5",
       "style": "IPY_MODEL_a5f6afc1853e458bbac2974093e6f968",
       "value": "Number of Iterations"
      }
     },
     "feaee74399e945f383b5509e4b382e7a": {
      "model_module": "@jupyter-widgets/controls",
      "model_module_version": "1.0.0",
      "model_name": "ButtonStyleModel",
      "state": {}
     },
     "ffbcd05341e547c2b9b96431896998c5": {
      "model_module": "@jupyter-widgets/base",
      "model_module_version": "1.0.0",
      "model_name": "LayoutModel",
      "state": {}
     },
     "ffcf6a430c6d42e7a88027156a69265c": {
      "model_module": "@jupyter-widgets/base",
      "model_module_version": "1.0.0",
      "model_name": "LayoutModel",
      "state": {}
     }
    },
    "version_major": 2,
    "version_minor": 0
   }
  }
 },
 "nbformat": 4,
 "nbformat_minor": 2
}
