{
 "cells": [
  {
   "cell_type": "markdown",
   "metadata": {},
   "source": [
    "# Section 1: Welcome to AI in Aeromechanics!\n",
    "---"
   ]
  },
  {
   "cell_type": "markdown",
   "metadata": {},
   "source": [
    "## About This Course"
   ]
  },
  {
   "cell_type": "markdown",
   "metadata": {},
   "source": [
    "Welcome to the course on AI in Aeromechanics. This course will be covering different AI techniques that can be applied to standard aeromechanical testing. This course will cover content in both the pre-test and post-test sides of analysis. The pre-test portion will focus on utilizing the finite element method and using AI to determine sensor placement and count. The post-test side will focus on using AI techniques to detect patterns visible in the signal. The main goals of this course are as follows:\n",
    ">  \n",
    "1. De-Mystify the concept of AI\n",
    "2. Induce confidence in using AI in aeromechanical testing\n",
    "3. Provide a deep understanding of different AI techniques\n",
    "\n",
    "It is intended for the presented AI methods be implemented by the engineers taking this course. This will inevitably result in lower costs for testing, lower quantity of needed analysts, and reduce the time to part certification. If the industry begins to deploy AI agents, the agents will be able to learn more, become more accurate, and overall do more. As the agents improve and their abilities broaden, the difficulty imposed by analysis will inevitably decrease."
   ]
  },
  {
   "cell_type": "markdown",
   "metadata": {},
   "source": [
    "## Prerequisites"
   ]
  },
  {
   "cell_type": "markdown",
   "metadata": {},
   "source": [
    "This course is intended to be taken by engineers in the field of aeromechanical testing. Therefore, the following is a list of expected requirements:\n",
    ">  \n",
    "1. Familiar with the Finite Element Method\n",
    "2. Familiar with the process of acquiring data from sensors\n",
    "3. Know what a campbell diagram is\n",
    "4. Know what an FFT (Fast Fourier Transform) is\n",
    "5. Strong background in linear algebra\n",
    "\n",
    "It is also recommended, although not required, that you have experience with python. This course will both display python code for demonstration and assign assignments where you will be expected to program in python."
   ]
  },
  {
   "cell_type": "markdown",
   "metadata": {},
   "source": [
    "## Course Outcomes"
   ]
  },
  {
   "cell_type": "markdown",
   "metadata": {},
   "source": [
    "By the end of this course, you should know how to implement the following in the field of aeromechanical testing:\n",
    ">  \n",
    "1. Genetic Algorithms\n",
    "2. Expectation Maximization Using Gaussian Mixture Models\n",
    "3. Hidden Markov Models\n",
    "4. Neural Nets\n",
    "\n",
    "The course will provide an introductory example and overview of each technique. Afterwards, an example displaying the use in a specific area of aeromechanical testing will be provided."
   ]
  },
  {
   "cell_type": "markdown",
   "metadata": {},
   "source": [
    "## Resources"
   ]
  },
  {
   "cell_type": "markdown",
   "metadata": {},
   "source": [
    "This course utilizes Python 3. For the assignments, it is recommended to use the Visual Studio Code product for code editing and debugging. The individual course resources can be seen below:\n",
    "\n",
    ">  \n",
    "### Technology\n",
    "1. Python Download: https://www.python.org/downloads/\n",
    "2. Visual Studio Code: https://code.visualstudio.com/download\n",
    ">  \n",
    "### Text\n",
    "1. Artificial Intelligence: A Modern Approach (Third Edition) by Stuart J. Russel and Peter Norvig\n",
    "2. Artificial Intelligence (Third Edition) by Patrick Henry Winston"
   ]
  },
  {
   "cell_type": "markdown",
   "metadata": {},
   "source": [
    "## Sponsors\n",
    "\n",
    "![GT](./images/gt.png)![APEX](./images/logo-apex.png)"
   ]
  },
  {
   "cell_type": "code",
   "execution_count": null,
   "metadata": {
    "collapsed": true
   },
   "outputs": [],
   "source": []
  }
 ],
 "metadata": {
  "kernelspec": {
   "display_name": "Python 3",
   "language": "python",
   "name": "python3"
  },
  "language_info": {
   "codemirror_mode": {
    "name": "ipython",
    "version": 3
   },
   "file_extension": ".py",
   "mimetype": "text/x-python",
   "name": "python",
   "nbconvert_exporter": "python",
   "pygments_lexer": "ipython3",
   "version": "3.6.2"
  }
 },
 "nbformat": 4,
 "nbformat_minor": 2
}
