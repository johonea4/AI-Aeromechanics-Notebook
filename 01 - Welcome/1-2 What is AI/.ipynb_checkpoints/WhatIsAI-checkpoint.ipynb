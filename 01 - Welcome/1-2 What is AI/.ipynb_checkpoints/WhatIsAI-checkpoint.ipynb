{
 "cells": [
  {
   "cell_type": "markdown",
   "metadata": {},
   "source": [
    "# 1.2 What is AI\n",
    "---"
   ]
  },
  {
   "cell_type": "markdown",
   "metadata": {
    "collapsed": true
   },
   "source": [
    "## Overview"
   ]
  },
  {
   "cell_type": "markdown",
   "metadata": {},
   "source": [
    "AI is one of the newest fields in science and engineering. Although the concepts have been perceived since the mid 1900's, it is just now that we are beginning to implement and further understand thes ideas. In a sense, AI is exciting and new. The possibilities given to us by it are endless and gives us more power than generations before us. The field of AI currently encompasses a large variety of subfileds including general learning and perception, driving cars, diagnosing diseases, mathematical solvers, and as this course will demonstrate aeromechanical testing."
   ]
  },
  {
   "cell_type": "markdown",
   "metadata": {},
   "source": [
    "## Schools of AI"
   ]
  },
  {
   "cell_type": "markdown",
   "metadata": {},
   "source": [
    "Take a look at the image below. This graph sets 4 separate quandrants for the focus of AI. In the first quandrant, agents are acting humanly and are thinkers. This area is normally where you would see AI methods such as speech recognition and response. These agents need to be able to perceive what is said, and respond in a humanly manner. The second quandrant thinks, ad processes, but it is less concerned with providing a human-like result than it is providing optimal solutions. This are is normally where machine learning and data abstraction methods exisits. The third quandrant are agents that act optimally. Autopilot airplane and self driving cars are example agents in this area. Finally, the fourth quandrant are the agents that act humanly. These agents could be improvisational robots such as autonomous systems that act and respond to audiences in theme parks."
   ]
  },
  {
   "cell_type": "markdown",
   "metadata": {},
   "source": [
    "![AIGraph](./images/ai_graph.PNG)"
   ]
  },
  {
   "cell_type": "markdown",
   "metadata": {},
   "source": [
    "These are the four areas or schools of AI. All implementations, solutions, algorithms, etc will fall somewhere on this graph by answering 2 important questions: \n",
    "\n",
    "> 1. Are you concerned with thinking or behavior?\n",
    "> 2. Do you want to model humans or work from an ideal standard?\n",
    "\n",
    "Ideally, intelligent agents no matter the implementation will take the best possible action in any situation. This would be based on knowledge the agent has obtained and using it to make a rational decision."
   ]
  },
  {
   "cell_type": "markdown",
   "metadata": {},
   "source": [
    "## So.... What is AI?"
   ]
  },
  {
   "cell_type": "markdown",
   "metadata": {},
   "source": [
    "In general, AI is several sets of algorithms and methods. Some methods are good for learning. Other methods are good at making decisions, or acting, or storing/retrieving memory. It is the combination of these things that create a cognitive system (agent).  An Cognitive system is capable of taking a set of inputs, performing a cognitive process , which results in an output. The output could be a decision, an action, etc. During the cognitive process, the agent is performing deliberating on the input, retriving data from memory if it needs or storing the event in memory if it is unknown, it reasons, and then delivers an output. See the image below for an example of this process."
   ]
  },
  {
   "cell_type": "markdown",
   "metadata": {},
   "source": [
    "![Cognition](./images/cognitiveSystem.PNG)"
   ]
  },
  {
   "cell_type": "markdown",
   "metadata": {},
   "source": [
    "## Advancement in the Field"
   ]
  },
  {
   "cell_type": "markdown",
   "metadata": {},
   "source": [
    "AI has advanced more rapidly in the past several years. This is due to a greater use of the scientific method in experimenting with and comparing models. This course is meant to make a start of applications in aeromechanical testing and give the student the resources and the enthusasium to learn more. As more is learned, more is attempted, and more people are involved, AI in general as well as specific field will inevitably improve."
   ]
  },
  {
   "cell_type": "code",
   "execution_count": null,
   "metadata": {
    "collapsed": true
   },
   "outputs": [],
   "source": []
  }
 ],
 "metadata": {
  "kernelspec": {
   "display_name": "Python 3",
   "language": "python",
   "name": "python3"
  },
  "language_info": {
   "codemirror_mode": {
    "name": "ipython",
    "version": 3
   },
   "file_extension": ".py",
   "mimetype": "text/x-python",
   "name": "python",
   "nbconvert_exporter": "python",
   "pygments_lexer": "ipython3",
   "version": "3.6.2"
  }
 },
 "nbformat": 4,
 "nbformat_minor": 2
}
