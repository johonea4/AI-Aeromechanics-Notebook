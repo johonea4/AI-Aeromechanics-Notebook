{
 "cells": [
  {
   "cell_type": "markdown",
   "metadata": {},
   "source": [
    "# 1.1 Course Structure\n",
    "---"
   ]
  },
  {
   "cell_type": "markdown",
   "metadata": {},
   "source": [
    "## Introduction"
   ]
  },
  {
   "cell_type": "markdown",
   "metadata": {},
   "source": [
    "The course is structured into 3 main sections. These sections are meant to correlate with standard aeromechanical testing processes, and can be seen below:\n",
    ">  \n",
    "1. Introduction to the Course\n",
    "2. Pre-Test Analysis\n",
    "3. Data Analysis\n",
    "\n",
    "The current section, the Introductory section, is meant to introduce you to the course, its structure, and to the concept of AI. Following this piece of section 1, you will learn exactly what AI is and ramifications of its use. The Pre-Test Analysis section will cover analysis using finite elemnt models to determine sensor location for a test. This section will provide a breif overview of the finite elemnt method and why it is used. Finally, the Data Analysis section will look at the testing and post-test phases. It will discuss methods in applying AI to signal analysis for use in feature detection and navigating through the noise. Each lesson will provide an introduction to the subject, a detailed description of the algorithm and what it is doing, a visual example, a detailed example as it relates to aeromechanical testing, and additional resources for furhter reading."
   ]
  },
  {
   "cell_type": "markdown",
   "metadata": {},
   "source": [
    "## Course Outline"
   ]
  },
  {
   "cell_type": "markdown",
   "metadata": {},
   "source": [
    "This course is estimated to take 6 weeks to complete (1 week per lesson). The outline can be seen below:\n",
    "\n",
    "### Section 1: Welcome\n",
    "1. Welcome to AI in Aeromechanics\n",
    "2. Course Structure\n",
    "3. What is AI?\n",
    "\n",
    "### Section 2: Pre-Test Analysis\n",
    "1. Section Overview and Goals\n",
    "2. Review: Finite Element Method\n",
    "\n",
    "> #### Lesson 1: Genetic Algorithms\n",
    "> 1. Introduction\n",
    "> 2. The Algorithm\n",
    "> 3. Visual Example: 8 Queens Problem\n",
    "> 4. Aeromechanics Example: Find optimum Sensor location Based on Parameters\n",
    "> 5. Review \n",
    "> 6. Resources\n",
    "\n",
    "> #### Lesson 2: EM With Gaussian Mixture Models\n",
    "> 1. Introduction\n",
    "> 2. The Algorithm\n",
    "> 3. Visual Example: Image Decomposition\n",
    "> 4. Aeromechanics Example: Find optimum Sensor location Based on Parameters\n",
    "> 5. Review\n",
    "> 6. Resources\n",
    "\n",
    "### Section 3: Data Analysis\n",
    "1. Section Overview and Goals\n",
    "2. Review: Data Acquisition and Processing\n",
    "\n",
    "> #### Lesson 1: Hidden Markov Models\n",
    "> 1. Introduction\n",
    "> 2. The Algorithm\n",
    "> 3. Visual Example: Rainy or Sunny?\n",
    "> 4. Aeromechanics Example: Recognize Engine Order Vibrational Signiture\n",
    "> 5. Review and Additional Resources\n",
    "> 6. Resources\n",
    "\n",
    "> #### Lesson 2: Neural Networks\n",
    "> 1. Introduction\n",
    "> 2. The Algorithm\n",
    "> 3. Visual Example: A Simple Neural Net\n",
    "> 4. Aeromechanics Example: Detect Vibratory Event Using Neural Nets and Campbell Collection Grid\n",
    "> 5. Review\n",
    "> 6. Resources\n",
    "\n",
    "> #### Lesson 3: Decision Trees\n",
    "> 1. Introduction\n",
    "> 2. The Algorithm\n",
    "> 3. Visual Example: Boolean Logic\n",
    "> 4. Aeromechanics Example: Classification\n",
    "> 5. Review\n",
    "> 7. Resources"
   ]
  },
  {
   "cell_type": "markdown",
   "metadata": {},
   "source": [
    "## Self Learn Assignments"
   ]
  },
  {
   "cell_type": "markdown",
   "metadata": {},
   "source": [
    "Each lesson will end with a self learn assignment. It is very important that these assignments be completed as they will further your understanding of a given topic. A lot in the area of Computer Science is discovered through doing. The assignments will range based on the topic. Some of the assignments will be programming assignments in python where you will need to complete the implementation of some shell code. Other assignments will simply be readings or a research task. The exact assignment structure and type will be at the instructor's descretion. Each self assignment will be accompanied with a estimated time to complete the task for your information of expected difficulty. Each assignment is assigned at the beginning of the week for the current lesson, and will usually be due at midnight at the start of the subsequent week."
   ]
  },
  {
   "cell_type": "code",
   "execution_count": null,
   "metadata": {
    "collapsed": true
   },
   "outputs": [],
   "source": []
  }
 ],
 "metadata": {
  "kernelspec": {
   "display_name": "Python 3",
   "language": "python",
   "name": "python3"
  },
  "language_info": {
   "codemirror_mode": {
    "name": "ipython",
    "version": 3
   },
   "file_extension": ".py",
   "mimetype": "text/x-python",
   "name": "python",
   "nbconvert_exporter": "python",
   "pygments_lexer": "ipython3",
   "version": "3.6.4"
  }
 },
 "nbformat": 4,
 "nbformat_minor": 2
}
