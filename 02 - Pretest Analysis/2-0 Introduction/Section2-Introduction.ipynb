{
 "cells": [
  {
   "cell_type": "markdown",
   "metadata": {},
   "source": [
    "# Section 2: Pre-Test Analysis\n",
    "---"
   ]
  },
  {
   "cell_type": "markdown",
   "metadata": {},
   "source": [
    "## Introduction"
   ]
  },
  {
   "cell_type": "markdown",
   "metadata": {},
   "source": [
    "This section will concentrate on data analysis in order to prepare for a test. Specifically, it will focus on finding locations to place the sensors for detecting modes of vibration. This analysis makes use of the finite element method to first, determine the areas with high concentrations of strain/stress, and second, find areas on the surface of the model to place a sensor and know what the sensor will detect transforming the surface strains/stresses into the sensor's coordinate system. This section contains 2 lessons displaying different techniques to perform this action. The following are the golas of this section:\n",
    "\n",
    "> 1. Learn the genetic algorithm\n",
    "> 2. Apply the genetic algorithm as a constraint based search method\n",
    "> 3. Learn EM and Gaussian Mixture Models\n",
    "> 4. Apply EM to solving sensor placement and quantity\n",
    "> 5. Provide foundation for further learning"
   ]
  },
  {
   "cell_type": "markdown",
   "metadata": {},
   "source": [
    "## Review: The Finite Element Method"
   ]
  },
  {
   "cell_type": "markdown",
   "metadata": {},
   "source": []
  }
 ],
 "metadata": {
  "kernelspec": {
   "display_name": "Python 3",
   "language": "python",
   "name": "python3"
  },
  "language_info": {
   "codemirror_mode": {
    "name": "ipython",
    "version": 3
   },
   "file_extension": ".py",
   "mimetype": "text/x-python",
   "name": "python",
   "nbconvert_exporter": "python",
   "pygments_lexer": "ipython3",
   "version": "3.6.2"
  }
 },
 "nbformat": 4,
 "nbformat_minor": 2
}
