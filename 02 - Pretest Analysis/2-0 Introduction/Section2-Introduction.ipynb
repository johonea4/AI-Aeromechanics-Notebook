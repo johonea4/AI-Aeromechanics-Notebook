{
 "cells": [
  {
   "cell_type": "markdown",
   "metadata": {},
   "source": [
    "# Section 2: Pre-Test Analysis\n",
    "---"
   ]
  },
  {
   "cell_type": "markdown",
   "metadata": {},
   "source": [
    "## Introduction"
   ]
  },
  {
   "cell_type": "markdown",
   "metadata": {},
   "source": [
    "This section will concentrate on data analysis in order to prepare for a test. Specifically, it will focus on finding locations to place the sensors for detecting modes of vibration. This analysis makes use of the finite element method to first, determine the areas with high concentrations of strain/stress, and second, find areas on the surface of the model to place a sensor and know what the sensor will detect transforming the surface strains/stresses into the sensor's coordinate system. This section contains 2 lessons displaying different techniques to perform this action. The following are the golas of this section:\n",
    "\n",
    "> 1. Learn the genetic algorithm\n",
    "> 2. Apply the genetic algorithm as a constraint based search method\n",
    "> 3. Learn EM and Gaussian Mixture Models\n",
    "> 4. Apply EM to solving sensor placement and quantity\n",
    "> 5. Provide foundation for further learning"
   ]
  },
  {
   "cell_type": "markdown",
   "metadata": {},
   "source": [
    "## Review: The Finite Element Method"
   ]
  },
  {
   "cell_type": "markdown",
   "metadata": {},
   "source": [
    "The finite element method is used such that a complex object can be broken down into simplified primitive types for easier calculations. For example, take the following model:\n",
    "\n",
    "![model](./images/model.PNG)\n",
    "\n",
    "This model is overall a complex model. If we were to pick an arbitrary point on the model, it would be difficult to extract the simulated strain or stress at that point. However, after meshing the model and composing a few thousand primitive elemnts, we can rebuild the model where it is made up of bricks and tetrahedrals. By doing this, we can impose a deflection or displacement of the nodes that make up each element and calculate the simulated stress or strain at that point. Below is an example of a meshed model:\n",
    "\n",
    "![mesh](./images/mesh.PNG)\n",
    "\n",
    "Now that we have the mesh, the set displacements, and the calculated strains/stresses at each node, we can map a virtual sensor to the model. The virtual sensor allows us to extract information for where to place the sensor in order to detect modes of vibration on the part. We do this by ratioing the strain/stress observed by the virtual sensor to the maximum calculated stress on the model. This allows us to infer that a specific sensor can be placed at a location where it can observe 50% (example) of the maximum.  Therefore, during test, if the actual sensor is reading close to 50% of the maximum stress, the test article may be in trouble. Below are images showing a mapped sensor and countours of vibrational mode shapes of the model.\n",
    "\n",
    "![sensor](./images/sensor.PNG)\n",
    "\n",
    "![contour](./images/contour.PNG)"
   ]
  },
  {
   "cell_type": "code",
   "execution_count": null,
   "metadata": {
    "collapsed": true
   },
   "outputs": [],
   "source": []
  }
 ],
 "metadata": {
  "kernelspec": {
   "display_name": "Python 3",
   "language": "python",
   "name": "python3"
  },
  "language_info": {
   "codemirror_mode": {
    "name": "ipython",
    "version": 3
   },
   "file_extension": ".py",
   "mimetype": "text/x-python",
   "name": "python",
   "nbconvert_exporter": "python",
   "pygments_lexer": "ipython3",
   "version": "3.6.2"
  }
 },
 "nbformat": 4,
 "nbformat_minor": 2
}
